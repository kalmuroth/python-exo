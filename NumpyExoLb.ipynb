{
  "cells": [
    {
      "cell_type": "markdown",
      "metadata": {
        "id": "view-in-github",
        "colab_type": "text"
      },
      "source": [
        "<a href=\"https://colab.research.google.com/github/kalmuroth/python-exo/blob/master/NumpyExoLb.ipynb\" target=\"_parent\"><img src=\"https://colab.research.google.com/assets/colab-badge.svg\" alt=\"Open In Colab\"/></a>"
      ]
    },
    {
      "cell_type": "markdown",
      "metadata": {
        "id": "OVW9T2jDvZXY"
      },
      "source": [
        "# Numpy exercices pratiques\n",
        "Ce notebook à pour objectif de vous faire pratiquer numpy dans toute sa généralité. \n",
        "Vous avez donc une liste de questions à faire ! Il ne faut pas hésiter à faire des recherches sur google ainsi que voir la [documentation officielle](https://docs.scipy.org/doc/numpy-1.13.0/reference/). "
      ]
    },
    {
      "cell_type": "markdown",
      "metadata": {
        "id": "RdMT1btCvZXb"
      },
      "source": [
        "#### Q1 : Importer le package numpy "
      ]
    },
    {
      "cell_type": "code",
      "execution_count": 2,
      "metadata": {
        "id": "INeIRsPZvZXb"
      },
      "outputs": [],
      "source": [
        "import numpy as np"
      ]
    },
    {
      "cell_type": "markdown",
      "metadata": {
        "id": "IAKh3PFsvZXc"
      },
      "source": [
        "#### Q2 : Afficher la version de numpy et la configuration "
      ]
    },
    {
      "cell_type": "code",
      "execution_count": 4,
      "metadata": {
        "colab": {
          "base_uri": "https://localhost:8080/"
        },
        "id": "32G_JecUvZXc",
        "outputId": "f61bd03d-1406-4633-cb13-50847a759731"
      },
      "outputs": [
        {
          "output_type": "stream",
          "name": "stdout",
          "text": [
            "numpy                         1.21.6\n"
          ]
        }
      ],
      "source": [
        "pip list | grep numpy"
      ]
    },
    {
      "cell_type": "markdown",
      "metadata": {
        "id": "vCLaooutvZXc"
      },
      "source": [
        "#### Q3 : Créer un vecteur nul de taille 10"
      ]
    },
    {
      "cell_type": "code",
      "execution_count": 5,
      "metadata": {
        "colab": {
          "base_uri": "https://localhost:8080/"
        },
        "id": "cXuHdnjcvZXc",
        "outputId": "1b5114e6-c838-4427-f1e3-8e93bf05d877"
      },
      "outputs": [
        {
          "output_type": "stream",
          "name": "stdout",
          "text": [
            "[0. 0. 0. 0. 0. 0. 0. 0. 0. 0.]\n"
          ]
        }
      ],
      "source": [
        "x = np.zeros(10)\n",
        "print(x)"
      ]
    },
    {
      "cell_type": "markdown",
      "metadata": {
        "id": "tYBTfMVvvZXc"
      },
      "source": [
        "#### Q4 : Créer un vecteur null de taille 10 et affecter la valeur 1 à la 4ème place (index 4) du vecteur"
      ]
    },
    {
      "cell_type": "code",
      "execution_count": 6,
      "metadata": {
        "colab": {
          "base_uri": "https://localhost:8080/"
        },
        "id": "q5QY-8mPvZXd",
        "outputId": "e8aabf8d-b22a-4a2f-fc14-2935cf385535"
      },
      "outputs": [
        {
          "output_type": "stream",
          "name": "stdout",
          "text": [
            "[0. 0. 0. 0. 0. 0. 0. 0. 0. 0.]\n",
            "[0. 0. 0. 0. 1. 0. 0. 0. 0. 0.]\n"
          ]
        }
      ],
      "source": [
        "x = np.zeros(10)\n",
        "print(x)\n",
        "x[4] = 1\n",
        "print(x)"
      ]
    },
    {
      "cell_type": "markdown",
      "metadata": {
        "id": "d-HUyPbTvZXd"
      },
      "source": [
        "#### Q5 : Créer un vecteur Z de 40 valeurs allant de 10 à 50 "
      ]
    },
    {
      "cell_type": "code",
      "execution_count": 9,
      "metadata": {
        "colab": {
          "base_uri": "https://localhost:8080/"
        },
        "id": "MQ7NGzG0vZXd",
        "outputId": "8cd85fd6-d4ca-4c7e-ce76-6c018d3ccab0"
      },
      "outputs": [
        {
          "output_type": "stream",
          "name": "stdout",
          "text": [
            "[10 11 12 13 14 15 16 17 18 19 20 21 22 23 24 25 26 27 28 29 30 31 32 33\n",
            " 34 35 36 37 38 39 40 41 42 43 44 45 46 47 48 49]\n"
          ]
        }
      ],
      "source": [
        "x = np.arange(10,50)\n",
        "print(x)"
      ]
    },
    {
      "cell_type": "markdown",
      "metadata": {
        "id": "jaQTBrl5vZXe"
      },
      "source": [
        "#### Q6 : Inverser Z (le premier élément devient donc le dernier)"
      ]
    },
    {
      "cell_type": "code",
      "execution_count": 12,
      "metadata": {
        "colab": {
          "base_uri": "https://localhost:8080/"
        },
        "id": "ZtlR19rovZXe",
        "outputId": "d6a8ada7-70f7-4f22-903d-fc8ecc4b41f0"
      },
      "outputs": [
        {
          "output_type": "stream",
          "name": "stdout",
          "text": [
            "[0 1 2 3 4 5 6 7 8 9]\n",
            "[9 8 7 6 5 4 3 2 1 0]\n"
          ]
        }
      ],
      "source": [
        "x = np.arange(10)\n",
        "print(x)\n",
        "x = np.flip(x)\n",
        "print(x)"
      ]
    },
    {
      "cell_type": "markdown",
      "metadata": {
        "id": "AjaPTVLsvZXe"
      },
      "source": [
        "#### Q7 : Créer une matrice 3x3 avec des valeurs comprise entre 0 et 8 "
      ]
    },
    {
      "cell_type": "code",
      "execution_count": 17,
      "metadata": {
        "colab": {
          "base_uri": "https://localhost:8080/"
        },
        "id": "zXq7_2WXvZXe",
        "outputId": "f7f947b8-dbd3-4254-a23b-2dd5b9c6551f"
      },
      "outputs": [
        {
          "output_type": "stream",
          "name": "stdout",
          "text": [
            "[[0 1 2]\n",
            " [3 4 5]\n",
            " [6 7 8]]\n"
          ]
        }
      ],
      "source": [
        "x =  np.arange(0, 9).reshape(3,3)\n",
        "print(x)"
      ]
    },
    {
      "cell_type": "markdown",
      "metadata": {
        "id": "mYQ8s2cSvZXe"
      },
      "source": [
        "#### Q8 : Créer une matrice identié 3x3 "
      ]
    },
    {
      "cell_type": "code",
      "execution_count": 21,
      "metadata": {
        "colab": {
          "base_uri": "https://localhost:8080/"
        },
        "id": "3wiXcd3GvZXf",
        "outputId": "88063190-9f03-473f-b378-aee476c35989"
      },
      "outputs": [
        {
          "output_type": "stream",
          "name": "stdout",
          "text": [
            "[[1. 0. 0.]\n",
            " [0. 1. 0.]\n",
            " [0. 0. 1.]]\n"
          ]
        }
      ],
      "source": [
        "x =  np.identity(3)\n",
        "print(x)"
      ]
    },
    {
      "cell_type": "markdown",
      "metadata": {
        "id": "f6XZeIuevZXf"
      },
      "source": [
        "#### Q9 : Créer une matrice 3x3x3 avec des valeurs random "
      ]
    },
    {
      "cell_type": "code",
      "execution_count": 25,
      "metadata": {
        "colab": {
          "base_uri": "https://localhost:8080/"
        },
        "id": "JFtu3tDTvZXf",
        "outputId": "93365552-1182-409f-c2de-29e1fd17ba6b"
      },
      "outputs": [
        {
          "output_type": "stream",
          "name": "stdout",
          "text": [
            "[[0.9247974  0.80399542 0.23630241]\n",
            " [0.94060985 0.42300753 0.60529551]\n",
            " [0.44264813 0.78885808 0.06539399]]\n"
          ]
        }
      ],
      "source": [
        "x =  np.random.rand(3,3)\n",
        "print(x)"
      ]
    },
    {
      "cell_type": "markdown",
      "metadata": {
        "id": "SQBAsXYRvZXf"
      },
      "source": [
        "#### Q10 : Créer une matrice 10x10 avec des valeurs random et afficher le minimum et maximum de cette matrice"
      ]
    },
    {
      "cell_type": "code",
      "execution_count": 30,
      "metadata": {
        "colab": {
          "base_uri": "https://localhost:8080/"
        },
        "id": "qAnC92g6vZXf",
        "outputId": "e5ab8f4e-29c7-47f0-f0f1-7c7b1d4957f0"
      },
      "outputs": [
        {
          "output_type": "stream",
          "name": "stdout",
          "text": [
            "min 0.0016779918398928118\n",
            "max 0.995902924670383\n"
          ]
        }
      ],
      "source": [
        "x =  np.random.rand(10,10)\n",
        "print(\"min\",np.amin(x))\n",
        "print(\"max\",np.amax(x))"
      ]
    },
    {
      "cell_type": "markdown",
      "metadata": {
        "id": "YFQmRV3evZXf"
      },
      "source": [
        "#### Q11 : Créer une matrice 5x5 avec les valeurs 1,2,3,4 en dessous de la diagonale "
      ]
    },
    {
      "cell_type": "code",
      "execution_count": null,
      "metadata": {
        "id": "qnCL7vA3vZXg"
      },
      "outputs": [],
      "source": []
    },
    {
      "cell_type": "markdown",
      "metadata": {
        "id": "2lEUZpVSvZXg"
      },
      "source": [
        "#### Q12 : Créer une liste random de taille 5 et donner la somme de ses éléments  "
      ]
    },
    {
      "cell_type": "code",
      "execution_count": 32,
      "metadata": {
        "colab": {
          "base_uri": "https://localhost:8080/"
        },
        "id": "yNBJGGfZvZXg",
        "outputId": "e786bc4d-d8b3-4fa4-a4e9-092c2b00ed9e"
      },
      "outputs": [
        {
          "output_type": "stream",
          "name": "stdout",
          "text": [
            "300\n"
          ]
        }
      ],
      "source": [
        "x =  np.arange(0, 25).reshape(5,5)\n",
        "print(np.sum(x))"
      ]
    },
    {
      "cell_type": "markdown",
      "metadata": {
        "id": "S4WxP62nvZXg"
      },
      "source": [
        "#### Q13 : Créer une liste random de taille 5 et donner la moyenne de ses éléments"
      ]
    },
    {
      "cell_type": "code",
      "execution_count": 34,
      "metadata": {
        "colab": {
          "base_uri": "https://localhost:8080/"
        },
        "id": "Dp6qkjh2vZXg",
        "outputId": "82b0cfaa-fc85-4e98-a743-593cce778db9"
      },
      "outputs": [
        {
          "output_type": "stream",
          "name": "stdout",
          "text": [
            "0.45108213371683253\n"
          ]
        }
      ],
      "source": [
        "x =  np.random.rand(5,5)\n",
        "print(np.average(x))"
      ]
    },
    {
      "cell_type": "markdown",
      "metadata": {
        "id": "Rq2H7Zb4vZXg"
      },
      "source": [
        "#### Q14 : En utilisant une fonction, donner la taille de la liste suivante :\n",
        "```python \n",
        "l = [x for x in range(11)]\n",
        "```"
      ]
    },
    {
      "cell_type": "code",
      "execution_count": null,
      "metadata": {
        "id": "UmpheKVUvZXg"
      },
      "outputs": [],
      "source": []
    },
    {
      "cell_type": "markdown",
      "metadata": {
        "id": "uD803rlLvZXh"
      },
      "source": [
        "#### Q15 : Créer un tableau de taille 10 avec des valeurs comprises entre 0 et 1 EXCLUS "
      ]
    },
    {
      "cell_type": "code",
      "execution_count": null,
      "metadata": {
        "id": "ku2EtNhlvZXh"
      },
      "outputs": [],
      "source": []
    },
    {
      "cell_type": "markdown",
      "metadata": {
        "id": "H09RkKu0vZXh"
      },
      "source": [
        "#### Q16 : Soit deux tableau A et B de dimension 1 et de taille 5, créer A et B et afficher True si A et B sont égaux False sinon"
      ]
    },
    {
      "cell_type": "code",
      "execution_count": null,
      "metadata": {
        "id": "s3Dy0S3lvZXh"
      },
      "outputs": [],
      "source": []
    },
    {
      "cell_type": "markdown",
      "metadata": {
        "id": "vZ_9dLZhvZXh"
      },
      "source": [
        "#### Q17 : Convertir un tableau de float32 de dimension 1 et de taille 10 en un tableau de meme taille et dimension mais de type int32"
      ]
    },
    {
      "cell_type": "code",
      "execution_count": null,
      "metadata": {
        "id": "A6v_W_GRvZXh"
      },
      "outputs": [],
      "source": []
    },
    {
      "cell_type": "markdown",
      "metadata": {
        "id": "oxxySDjuvZXh"
      },
      "source": [
        "#### Q18 : Normaliser une matrice random 5x5 \n",
        "La normalisation d'un nombre X consiste à lui retirer sa moyenne et a diviser le tout par son écart type "
      ]
    },
    {
      "cell_type": "code",
      "execution_count": null,
      "metadata": {
        "id": "EYeBl_WBvZXi"
      },
      "outputs": [],
      "source": []
    },
    {
      "cell_type": "markdown",
      "metadata": {
        "id": "Ofc1fvW2vZXi"
      },
      "source": [
        "#### Q19 : Créer une matrice random `M` 2x2 et donner sa transposer \n",
        "L'opération de transposition dans une matrice consiste à échanger les lignes et le colonnes. "
      ]
    },
    {
      "cell_type": "code",
      "execution_count": null,
      "metadata": {
        "id": "gEs3oHaKvZXi"
      },
      "outputs": [],
      "source": []
    },
    {
      "cell_type": "markdown",
      "metadata": {
        "id": "gwZSAilJvZXi"
      },
      "source": [
        "#### Q20 : Écrire un petit script qui remplace un élément au hasard dans une matrice de dimension NxN"
      ]
    },
    {
      "cell_type": "code",
      "execution_count": null,
      "metadata": {
        "id": "aQFzSttuvZXi"
      },
      "outputs": [],
      "source": []
    },
    {
      "cell_type": "markdown",
      "metadata": {
        "id": "sVKRPNkmvZXi"
      },
      "source": [
        "#### Q21 : Considérons une matrice de dimension (5,5,3), écrire un script qui multiplie cette matrice par une matrice de dimension (5,5)"
      ]
    },
    {
      "cell_type": "code",
      "execution_count": null,
      "metadata": {
        "id": "akOSi0cYvZXi"
      },
      "outputs": [],
      "source": []
    }
  ],
  "metadata": {
    "kernelspec": {
      "display_name": "Python 3",
      "language": "python",
      "name": "python3"
    },
    "language_info": {
      "codemirror_mode": {
        "name": "ipython",
        "version": 3
      },
      "file_extension": ".py",
      "mimetype": "text/x-python",
      "name": "python",
      "nbconvert_exporter": "python",
      "pygments_lexer": "ipython3",
      "version": "3.7.0"
    },
    "latex_envs": {
      "LaTeX_envs_menu_present": true,
      "autoclose": false,
      "autocomplete": true,
      "bibliofile": "biblio.bib",
      "cite_by": "apalike",
      "current_citInitial": 1,
      "eqLabelWithNumbers": true,
      "eqNumInitial": 1,
      "hotkeys": {
        "equation": "Ctrl-E",
        "itemize": "Ctrl-I"
      },
      "labels_anchors": false,
      "latex_user_defs": false,
      "report_style_numbering": false,
      "user_envs_cfg": false
    },
    "toc": {
      "base_numbering": 1,
      "nav_menu": {},
      "number_sections": true,
      "sideBar": true,
      "skip_h1_title": false,
      "title_cell": "Table of Contents",
      "title_sidebar": "Contents",
      "toc_cell": false,
      "toc_position": {},
      "toc_section_display": true,
      "toc_window_display": false
    },
    "varInspector": {
      "cols": {
        "lenName": 16,
        "lenType": 16,
        "lenVar": 40
      },
      "kernels_config": {
        "python": {
          "delete_cmd_postfix": "",
          "delete_cmd_prefix": "del ",
          "library": "var_list.py",
          "varRefreshCmd": "print(var_dic_list())"
        },
        "r": {
          "delete_cmd_postfix": ") ",
          "delete_cmd_prefix": "rm(",
          "library": "var_list.r",
          "varRefreshCmd": "cat(var_dic_list()) "
        }
      },
      "types_to_exclude": [
        "module",
        "function",
        "builtin_function_or_method",
        "instance",
        "_Feature"
      ],
      "window_display": false
    },
    "colab": {
      "provenance": [],
      "include_colab_link": true
    }
  },
  "nbformat": 4,
  "nbformat_minor": 0
}