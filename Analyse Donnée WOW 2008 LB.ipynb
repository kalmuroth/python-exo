{
 "cells": [
  {
   "cell_type": "markdown",
   "id": "e6dddb75",
   "metadata": {},
   "source": [
    "Nous allons étudier des données qui correspondent aux personnages-joueurs du jeu-vidéo World Of Warcraft sur un serveur qui date de 2008.\n",
    "\n",
    "Il y a un total de x joueurs, chaque joueur à un total de x attribue.\n",
    "\n",
    "Je vais utiliser les librairies Python Pandas/Numpy/Seaborn pour étudier et analyser ces données visuellement."
   ]
  },
  {
   "cell_type": "code",
   "execution_count": 9,
   "id": "c88769f0",
   "metadata": {},
   "outputs": [],
   "source": [
    "import numpy as np\n",
    "import pandas as pd\n",
    "import seaborn as sns\n",
    "import os\n",
    "import gc"
   ]
  },
  {
   "cell_type": "markdown",
   "id": "8b967f10",
   "metadata": {},
   "source": [
    "# Préparer les données <a id=\"1\"></a>\n",
    "\n",
    "### Fichier en entrée <a id=\"2\"></a>"
   ]
  },
  {
   "cell_type": "code",
   "execution_count": 14,
   "id": "c4e63d99",
   "metadata": {},
   "outputs": [
    {
     "name": "stdout",
     "output_type": "stream",
     "text": [
      "Nombre de Fichier .csv :          4\n",
      "-----------------------------------\n",
      "locations.csv               6.07 KB\n",
      "location_coords.csv       228.99 KB\n",
      "wowah_data.csv            613.61 MB\n",
      "zones.csv                  16.46 KB\n"
     ]
    }
   ],
   "source": [
    "print('%-33s %d' % ('Nombre de Fichier .csv :', len(os.listdir('./input'))))\n",
    "for i in range(34):\n",
    "    print('-',end='')\n",
    "print('-')\n",
    "for file in os.listdir(\"./input/\"):\n",
    "    unit = 'MB'\n",
    "    size = os.stat('./input/' + file).st_size\n",
    "    if round(size / 2**20, 2) < 0.5:\n",
    "        size = round(size / 2**10, 2)\n",
    "        unit = 'KB'\n",
    "    else:\n",
    "        size = round(size / 2**20, 2)\n",
    "    print('%-25s %6.2f %2s' % (file, size, unit))"
   ]
  },
  {
   "cell_type": "markdown",
   "id": "ed72f038",
   "metadata": {},
   "source": [
    "# Présentation des données <a id=\"1\"></a>\n",
    "\n",
    "### Les Joueurs <a id=\"2\"></a>"
   ]
  },
  {
   "cell_type": "markdown",
   "id": "f8dd9663",
   "metadata": {},
   "source": [
    "On va commencer par quelque chose de simple, regarder un peu ce qu'est un joueur."
   ]
  },
  {
   "cell_type": "code",
   "execution_count": 27,
   "id": "07d86374",
   "metadata": {},
   "outputs": [
    {
     "data": {
      "text/html": [
       "<div>\n",
       "<style scoped>\n",
       "    .dataframe tbody tr th:only-of-type {\n",
       "        vertical-align: middle;\n",
       "    }\n",
       "\n",
       "    .dataframe tbody tr th {\n",
       "        vertical-align: top;\n",
       "    }\n",
       "\n",
       "    .dataframe thead th {\n",
       "        text-align: right;\n",
       "    }\n",
       "</style>\n",
       "<table border=\"1\" class=\"dataframe\">\n",
       "  <thead>\n",
       "    <tr style=\"text-align: right;\">\n",
       "      <th></th>\n",
       "      <th>char</th>\n",
       "      <th>level</th>\n",
       "      <th>race</th>\n",
       "      <th>charclass</th>\n",
       "      <th>zone</th>\n",
       "      <th>guild</th>\n",
       "      <th>timestamp</th>\n",
       "    </tr>\n",
       "  </thead>\n",
       "  <tbody>\n",
       "    <tr>\n",
       "      <th>0</th>\n",
       "      <td>59425</td>\n",
       "      <td>1</td>\n",
       "      <td>Orc</td>\n",
       "      <td>Rogue</td>\n",
       "      <td>Orgrimmar</td>\n",
       "      <td>165</td>\n",
       "      <td>01/01/08 00:02:04</td>\n",
       "    </tr>\n",
       "    <tr>\n",
       "      <th>1</th>\n",
       "      <td>65494</td>\n",
       "      <td>9</td>\n",
       "      <td>Orc</td>\n",
       "      <td>Hunter</td>\n",
       "      <td>Durotar</td>\n",
       "      <td>-1</td>\n",
       "      <td>01/01/08 00:02:04</td>\n",
       "    </tr>\n",
       "    <tr>\n",
       "      <th>2</th>\n",
       "      <td>65325</td>\n",
       "      <td>14</td>\n",
       "      <td>Orc</td>\n",
       "      <td>Warrior</td>\n",
       "      <td>Ghostlands</td>\n",
       "      <td>-1</td>\n",
       "      <td>01/01/08 00:02:04</td>\n",
       "    </tr>\n",
       "    <tr>\n",
       "      <th>3</th>\n",
       "      <td>65490</td>\n",
       "      <td>18</td>\n",
       "      <td>Orc</td>\n",
       "      <td>Hunter</td>\n",
       "      <td>Ghostlands</td>\n",
       "      <td>-1</td>\n",
       "      <td>01/01/08 00:02:04</td>\n",
       "    </tr>\n",
       "    <tr>\n",
       "      <th>4</th>\n",
       "      <td>2288</td>\n",
       "      <td>60</td>\n",
       "      <td>Orc</td>\n",
       "      <td>Hunter</td>\n",
       "      <td>Hellfire Peninsula</td>\n",
       "      <td>-1</td>\n",
       "      <td>01/01/08 00:02:09</td>\n",
       "    </tr>\n",
       "  </tbody>\n",
       "</table>\n",
       "</div>"
      ],
      "text/plain": [
       "    char   level  race  charclass                zone   guild  \\\n",
       "0  59425       1   Orc      Rogue           Orgrimmar     165   \n",
       "1  65494       9   Orc     Hunter             Durotar      -1   \n",
       "2  65325      14   Orc    Warrior          Ghostlands      -1   \n",
       "3  65490      18   Orc     Hunter          Ghostlands      -1   \n",
       "4   2288      60   Orc     Hunter  Hellfire Peninsula      -1   \n",
       "\n",
       "           timestamp  \n",
       "0  01/01/08 00:02:04  \n",
       "1  01/01/08 00:02:04  \n",
       "2  01/01/08 00:02:04  \n",
       "3  01/01/08 00:02:04  \n",
       "4  01/01/08 00:02:09  "
      ]
     },
     "execution_count": 27,
     "metadata": {},
     "output_type": "execute_result"
    }
   ],
   "source": [
    "joueur = pd.read_csv('./input/wowah_data.csv');\n",
    "joueur.head()"
   ]
  },
  {
   "cell_type": "markdown",
   "id": "f6c59c97",
   "metadata": {},
   "source": [
    "Chaque individu est un joueur qui à un métier (Voleur, guerrier ou magicien...), une race (humain, elfe, nain...) et un niveau."
   ]
  },
  {
   "cell_type": "code",
   "execution_count": 105,
   "id": "0a990646",
   "metadata": {
    "scrolled": false
   },
   "outputs": [
    {
     "name": "stdout",
     "output_type": "stream",
     "text": [
      "Sur un total de 10826734 Personnage-joueurs seulement 340986 ont atteints le niveau maximum.\n"
     ]
    }
   ],
   "source": [
    "joueur = pd.read_csv('./input/wowah_data.csv');\n",
    "#JoueurNiveauMax = joueur[joueur.level.eq(60)]\n",
    "JoueurNiveauMax = joueur[joueur.columns[1]]==80\n",
    "print(\"Sur un total de\", joueur[joueur.columns[0]].count() ,\"Personnage-joueurs seulement\", JoueurNiveauMax[JoueurNiveauMax==True].count(), \"ont atteints le niveau maximum.\")"
   ]
  },
  {
   "cell_type": "code",
   "execution_count": null,
   "id": "98bd5958",
   "metadata": {},
   "outputs": [],
   "source": []
  },
  {
   "cell_type": "code",
   "execution_count": null,
   "id": "7a1b7dbc",
   "metadata": {},
   "outputs": [],
   "source": []
  }
 ],
 "metadata": {
  "kernelspec": {
   "display_name": "Python 3 (ipykernel)",
   "language": "python",
   "name": "python3"
  },
  "language_info": {
   "codemirror_mode": {
    "name": "ipython",
    "version": 3
   },
   "file_extension": ".py",
   "mimetype": "text/x-python",
   "name": "python",
   "nbconvert_exporter": "python",
   "pygments_lexer": "ipython3",
   "version": "3.10.2"
  }
 },
 "nbformat": 4,
 "nbformat_minor": 5
}
