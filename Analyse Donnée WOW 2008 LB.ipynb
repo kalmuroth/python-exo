{
 "cells": [
  {
   "cell_type": "markdown",
   "id": "e6dddb75",
   "metadata": {},
   "source": [
    "Nous allons étudier des données qui correspondent aux connexion de personnages-joueurs dans le jeu-vidéo World Of Warcraft sur un serveur en 2008.\n",
    "\n",
    "Chaque row dans le fichier .csv correspond à une connexion quotidienne d'un joueur.\n",
    "\n",
    "Sur un axe de 1 ans (année 2008), nous avons un total de 10 millions de connexion.\n",
    "\n",
    "Je vais utiliser les librairies Python Pandas/Numpy/Seaborn pour étudier et analyser ces données visuellement pour démontrer l'impact de l'extension sur les joueurs."
   ]
  },
  {
   "cell_type": "code",
   "execution_count": null,
   "id": "c88769f0",
   "metadata": {},
   "outputs": [],
   "source": [
    "import numpy as np\n",
    "import pandas as pd\n",
    "import seaborn as sns\n",
    "import os\n",
    "import gc"
   ]
  },
  {
   "cell_type": "markdown",
   "id": "8b967f10",
   "metadata": {},
   "source": [
    "# Préparer les données <a id=\"1\"></a>\n",
    "\n",
    "### Fichier en entrée <a id=\"2\"></a>"
   ]
  },
  {
   "cell_type": "code",
   "execution_count": 41,
   "id": "c4e63d99",
   "metadata": {},
   "outputs": [
    {
     "name": "stdout",
     "output_type": "stream",
     "text": [
      "Nombre de Fichier .csv :          6\n",
      "-----------------------------------\n",
      "IBM_HR_ATTRITION.csv      222.63 KB\n",
      "locations.csv               6.07 KB\n",
      "location_coords.csv       228.99 KB\n",
      "sales_predictions.csv      93.02 MB\n",
      "wowah_data.csv            623.93 MB\n",
      "zones.csv                  16.46 KB\n"
     ]
    }
   ],
   "source": [
    "print('%-33s %d' % ('Nombre de Fichier .csv :', len(os.listdir('./input'))))\n",
    "for i in range(34):\n",
    "    print('-',end='')\n",
    "print('-')\n",
    "for file in os.listdir(\"./input/\"):\n",
    "    unit = 'MB'\n",
    "    size = os.stat('./input/' + file).st_size\n",
    "    if round(size / 2**20, 2) < 0.5:\n",
    "        size = round(size / 2**10, 2)\n",
    "        unit = 'KB'\n",
    "    else:\n",
    "        size = round(size / 2**20, 2)\n",
    "    print('%-25s %6.2f %2s' % (file, size, unit))"
   ]
  },
  {
   "cell_type": "markdown",
   "id": "ed72f038",
   "metadata": {},
   "source": [
    "# Présentation des données <a id=\"1\"></a>\n",
    "\n",
    "### Les Joueurs <a id=\"2\"></a>"
   ]
  },
  {
   "cell_type": "markdown",
   "id": "f8dd9663",
   "metadata": {},
   "source": [
    "On va commencer par quelque chose de simple, regarder un peu ce que représente un row dans nos données."
   ]
  },
  {
   "cell_type": "code",
   "execution_count": 42,
   "id": "07d86374",
   "metadata": {},
   "outputs": [
    {
     "data": {
      "text/html": [
       "<div>\n",
       "<style scoped>\n",
       "    .dataframe tbody tr th:only-of-type {\n",
       "        vertical-align: middle;\n",
       "    }\n",
       "\n",
       "    .dataframe tbody tr th {\n",
       "        vertical-align: top;\n",
       "    }\n",
       "\n",
       "    .dataframe thead th {\n",
       "        text-align: right;\n",
       "    }\n",
       "</style>\n",
       "<table border=\"1\" class=\"dataframe\">\n",
       "  <thead>\n",
       "    <tr style=\"text-align: right;\">\n",
       "      <th></th>\n",
       "      <th>char</th>\n",
       "      <th>level</th>\n",
       "      <th>race</th>\n",
       "      <th>charclass</th>\n",
       "      <th>zone</th>\n",
       "      <th>guild</th>\n",
       "      <th>timestamp</th>\n",
       "    </tr>\n",
       "  </thead>\n",
       "  <tbody>\n",
       "    <tr>\n",
       "      <th>0</th>\n",
       "      <td>59425</td>\n",
       "      <td>1</td>\n",
       "      <td>Orc</td>\n",
       "      <td>Rogue</td>\n",
       "      <td>Orgrimmar</td>\n",
       "      <td>165</td>\n",
       "      <td>01/01/08 00:02:04</td>\n",
       "    </tr>\n",
       "    <tr>\n",
       "      <th>1</th>\n",
       "      <td>65494</td>\n",
       "      <td>9</td>\n",
       "      <td>Orc</td>\n",
       "      <td>Hunter</td>\n",
       "      <td>Durotar</td>\n",
       "      <td>-1</td>\n",
       "      <td>01/01/08 00:02:04</td>\n",
       "    </tr>\n",
       "    <tr>\n",
       "      <th>2</th>\n",
       "      <td>65325</td>\n",
       "      <td>14</td>\n",
       "      <td>Orc</td>\n",
       "      <td>Warrior</td>\n",
       "      <td>Ghostlands</td>\n",
       "      <td>-1</td>\n",
       "      <td>01/01/08 00:02:04</td>\n",
       "    </tr>\n",
       "    <tr>\n",
       "      <th>3</th>\n",
       "      <td>65490</td>\n",
       "      <td>18</td>\n",
       "      <td>Orc</td>\n",
       "      <td>Hunter</td>\n",
       "      <td>Ghostlands</td>\n",
       "      <td>-1</td>\n",
       "      <td>01/01/08 00:02:04</td>\n",
       "    </tr>\n",
       "    <tr>\n",
       "      <th>4</th>\n",
       "      <td>2288</td>\n",
       "      <td>60</td>\n",
       "      <td>Orc</td>\n",
       "      <td>Hunter</td>\n",
       "      <td>Hellfire Peninsula</td>\n",
       "      <td>-1</td>\n",
       "      <td>01/01/08 00:02:09</td>\n",
       "    </tr>\n",
       "  </tbody>\n",
       "</table>\n",
       "</div>"
      ],
      "text/plain": [
       "    char  level race charclass                zone  guild          timestamp\n",
       "0  59425      1  Orc     Rogue           Orgrimmar    165  01/01/08 00:02:04\n",
       "1  65494      9  Orc    Hunter             Durotar     -1  01/01/08 00:02:04\n",
       "2  65325     14  Orc   Warrior          Ghostlands     -1  01/01/08 00:02:04\n",
       "3  65490     18  Orc    Hunter          Ghostlands     -1  01/01/08 00:02:04\n",
       "4   2288     60  Orc    Hunter  Hellfire Peninsula     -1  01/01/08 00:02:09"
      ]
     },
     "execution_count": 42,
     "metadata": {},
     "output_type": "execute_result"
    }
   ],
   "source": [
    "timeData = pd.read_csv('./input/wowah_data.csv', sep = ',', skipinitialspace=True);\n",
    "timeData.head()"
   ]
  },
  {
   "cell_type": "markdown",
   "id": "f6c59c97",
   "metadata": {},
   "source": [
    "Chaque ligne représente la connexion d'un joueur sur son personnage. \n",
    "Seulement la première connexion quotidienne a été enregistrer.\n",
    "\n",
    "Timestamp représente le moment où le joueur s'est connecté la première fois dans la journée."
   ]
  },
  {
   "cell_type": "code",
   "execution_count": null,
   "id": "98bd5958",
   "metadata": {},
   "outputs": [],
   "source": [
    "timeData.info()"
   ]
  },
  {
   "cell_type": "code",
   "execution_count": null,
   "id": "7a1b7dbc",
   "metadata": {},
   "outputs": [],
   "source": [
    "sns.relplot(x=timeData[\"level\"],y=timeData[\"timestamp\"],data=timeData.sample(100))"
   ]
  },
  {
   "cell_type": "code",
   "execution_count": null,
   "id": "7ad7fffa",
   "metadata": {},
   "outputs": [],
   "source": []
  },
  {
   "cell_type": "code",
   "execution_count": null,
   "id": "4ad418b2",
   "metadata": {},
   "outputs": [],
   "source": []
  },
  {
   "cell_type": "code",
   "execution_count": null,
   "id": "29bb7775",
   "metadata": {},
   "outputs": [],
   "source": []
  },
  {
   "cell_type": "code",
   "execution_count": null,
   "id": "caf86c94",
   "metadata": {},
   "outputs": [],
   "source": []
  }
 ],
 "metadata": {
  "kernelspec": {
   "display_name": "Python 3 (ipykernel)",
   "language": "python",
   "name": "python3"
  },
  "language_info": {
   "codemirror_mode": {
    "name": "ipython",
    "version": 3
   },
   "file_extension": ".py",
   "mimetype": "text/x-python",
   "name": "python",
   "nbconvert_exporter": "python",
   "pygments_lexer": "ipython3",
   "version": "3.10.2"
  }
 },
 "nbformat": 4,
 "nbformat_minor": 5
}
