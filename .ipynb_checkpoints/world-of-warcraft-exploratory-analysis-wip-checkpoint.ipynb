{
 "cells": [
  {
   "cell_type": "markdown",
   "metadata": {},
   "source": [
    "*Please upvote if you liked this kernel ;)*\n",
    "\n",
    "*And be sure to check my [WoW Battleground EDA & Prediction](https://www.kaggle.com/mandaloreultimate/world-of-warcraft-bg-eda-prediction/) as well*"
   ]
  },
  {
   "cell_type": "markdown",
   "metadata": {},
   "source": [
    "![title](https://i.imgur.com/ibGU9gL.png)"
   ]
  },
  {
   "cell_type": "markdown",
   "metadata": {},
   "source": [
    "In this kernel we are going to investigate the life of one of the *World of Warcraft* servers back in 2008, from the Horde faction perspective. I was initially inspired by two great kernels by [Thiago Balbo](https://www.kaggle.com/thibalbo) and [33Vito](https://www.kaggle.com/tonyliu), both of which were written on **R**, so I challenged myself to do my own research on **Python**, focusing heavily on visualization aspect with the amazing **Plotly** library. All right, let's get started, shall we?"
   ]
  },
  {
   "cell_type": "markdown",
   "metadata": {},
   "source": [
    "# Table of Contents\n",
    "* [Preparing the Data](#1)\n",
    "  * [Input Files Report](#2)\n",
    "  * [Data Cleaning](#3)\n",
    "* [Expansions](#4)\n",
    "* [Race/Class Statistics](#5)\n",
    "* [Players Activity](#6)\n",
    "  * [Throughout the Year](#7)\n",
    "  * [Average Day](#8)\n",
    "* [Guilds](#9)\n",
    "* [Levelling](#10)\n",
    "* [PVE](#11)\n",
    "  * [Dungeons & Raids](#12)\n",
    "  * [Endgame](#13)\n",
    "* [PVP](#14)"
   ]
  },
  {
   "cell_type": "code",
   "execution_count": 2,
   "metadata": {
    "_cell_guid": "b1076dfc-b9ad-4769-8c92-a6c4dae69d19",
    "_uuid": "8f2839f25d086af736a60e9eeb907d3b93b6e0e5"
   },
   "outputs": [],
   "source": [
    "import numpy as np\n",
    "import pandas as pd\n",
    "\n",
    "import seaborn as sns\n",
    "sns.set()\n",
    "import matplotlib.pyplot as plt\n",
    "%config InlineBackend.figure_format = 'svg' \n",
    "\n",
    "import warnings\n",
    "warnings.filterwarnings(\"ignore\")\n",
    "import os\n",
    "import gc"
   ]
  },
  {
   "cell_type": "markdown",
   "metadata": {},
   "source": [
    "# Preparing the Data <a id=\"1\"></a>\n",
    "\n",
    "### Input Files Report <a id=\"2\"></a>"
   ]
  },
  {
   "cell_type": "code",
   "execution_count": 6,
   "metadata": {
    "_kg_hide-input": true
   },
   "outputs": [
    {
     "name": "stdout",
     "output_type": "stream",
     "text": [
      "Input files available:            1\n",
      "-----------------------------------\n",
      "wowah_data.csv            613.61 MB\n"
     ]
    }
   ],
   "source": [
    "print('%-33s %d' % ('Input files available:', len(os.listdir('./input'))))\n",
    "for i in range(34):\n",
    "    print('-',end='')\n",
    "print('-')\n",
    "for file in os.listdir(\"./input/\"):\n",
    "    unit = 'MB'\n",
    "    size = os.stat('./input/' + file).st_size\n",
    "    if round(size / 2**20, 2) < 0.5:\n",
    "        size = round(size / 2**10, 2)\n",
    "        unit = 'KB'\n",
    "    else:\n",
    "        size = round(size / 2**20, 2)\n",
    "    print('%-25s %6.2f %2s' % (file, size, unit))"
   ]
  },
  {
   "cell_type": "markdown",
   "metadata": {},
   "source": [
    "### Data Cleaning <a id=\"3\"></a>\n",
    "\n",
    "Since the main dataframe file, *wowah_data.csv*, is extremely large, containing over **10 million** records, we will need to use special function to reduce memory usage, unless we want to run out of RAM half the way. And of course, since we are dealing with **big data** here, we will also need to regularly use **del** and *gc.collect()*. The rest of the files aren't that big, so we can read them with the standard function; a bit of data cleaning is required though, as for some reason several locations names contain Chinese symbols. We are also going to add new specific columns to the main dataframe that'll come handy in the future. Note that *char* column name is misleading, as its actually **players' id**, not **characters'** one. I renamed it and created another column for the latter; chars' id was constructed as *race_id+class_id#player_id*. It's obviously not 100% accurate as some players can have several characters with identical race and class, but we are assuming that's not a standard practice so a few mistakes are acceptable."
   ]
  },
  {
   "cell_type": "code",
   "execution_count": 7,
   "metadata": {
    "_kg_hide-input": true
   },
   "outputs": [],
   "source": [
    "#Source kernel: https://www.kaggle.com/arjanso/reducing-dataframe-memory-size-by-65\n",
    "def reduce_mem_usage(df):\n",
    "    \"\"\" iterate through all the columns of a dataframe and modify the data type\n",
    "        to reduce memory usage.        \n",
    "    \"\"\"\n",
    "    start_mem = df.memory_usage().sum() / 1024**2\n",
    "    print('Memory usage of dataframe is {:.2f} MB'.format(start_mem))\n",
    "    \n",
    "    for col in df.columns:\n",
    "        col_type = df[col].dtype\n",
    "        \n",
    "        if col_type != object:\n",
    "            c_min = df[col].min()\n",
    "            c_max = df[col].max()\n",
    "            if str(col_type)[:3] == 'int':\n",
    "                if c_min > np.iinfo(np.int8).min and c_max < np.iinfo(np.int8).max:\n",
    "                    df[col] = df[col].astype(np.int8)\n",
    "                elif c_min > np.iinfo(np.int16).min and c_max < np.iinfo(np.int16).max:\n",
    "                    df[col] = df[col].astype(np.int16)\n",
    "                elif c_min > np.iinfo(np.int32).min and c_max < np.iinfo(np.int32).max:\n",
    "                    df[col] = df[col].astype(np.int32)\n",
    "                elif c_min > np.iinfo(np.int64).min and c_max < np.iinfo(np.int64).max:\n",
    "                    df[col] = df[col].astype(np.int64)  \n",
    "            else:\n",
    "                if c_min > np.finfo(np.float16).min and c_max < np.finfo(np.float16).max:\n",
    "                    df[col] = df[col].astype(np.float16)\n",
    "                elif c_min > np.finfo(np.float32).min and c_max < np.finfo(np.float32).max:\n",
    "                    df[col] = df[col].astype(np.float32)\n",
    "                else:\n",
    "                    df[col] = df[col].astype(np.float64)\n",
    "        else:\n",
    "            df[col] = df[col].astype('category')\n",
    "\n",
    "    end_mem = df.memory_usage().sum() / 1024**2\n",
    "    print('Memory usage after optimization is: {:.2f} MB'.format(end_mem))\n",
    "    print('Decreased by {:.1f}%'.format(100 * (start_mem - end_mem) / start_mem))\n",
    "    \n",
    "    return df\n",
    "\n",
    "def import_data(file):\n",
    "    \"\"\"create a dataframe and optimize its memory usage\"\"\"\n",
    "    df = pd.read_csv(file, parse_dates=True, keep_date_col=True)\n",
    "    df = reduce_mem_usage(df)\n",
    "    return df"
   ]
  },
  {
   "cell_type": "code",
   "execution_count": 8,
   "metadata": {},
   "outputs": [
    {
     "ename": "FileNotFoundError",
     "evalue": "[Errno 2] No such file or directory: '../input/wowah_data.csv'",
     "output_type": "error",
     "traceback": [
      "\u001b[1;31m---------------------------------------------------------------------------\u001b[0m",
      "\u001b[1;31mFileNotFoundError\u001b[0m                         Traceback (most recent call last)",
      "Cell \u001b[1;32mIn [8], line 1\u001b[0m\n\u001b[1;32m----> 1\u001b[0m wowah \u001b[38;5;241m=\u001b[39m \u001b[43mimport_data\u001b[49m\u001b[43m(\u001b[49m\u001b[38;5;124;43m'\u001b[39;49m\u001b[38;5;124;43m../input/wowah_data.csv\u001b[39;49m\u001b[38;5;124;43m'\u001b[39;49m\u001b[43m)\u001b[49m\n\u001b[0;32m      2\u001b[0m zones \u001b[38;5;241m=\u001b[39m pd\u001b[38;5;241m.\u001b[39mread_csv(\u001b[38;5;124m'\u001b[39m\u001b[38;5;124m../input/zones.csv\u001b[39m\u001b[38;5;124m'\u001b[39m, encoding\u001b[38;5;241m=\u001b[39m\u001b[38;5;124m'\u001b[39m\u001b[38;5;124miso-8859-1\u001b[39m\u001b[38;5;124m'\u001b[39m)\n\u001b[0;32m      3\u001b[0m location_coords \u001b[38;5;241m=\u001b[39m pd\u001b[38;5;241m.\u001b[39mread_csv(\u001b[38;5;124m'\u001b[39m\u001b[38;5;124m../input/location_coords.csv\u001b[39m\u001b[38;5;124m'\u001b[39m, encoding\u001b[38;5;241m=\u001b[39m\u001b[38;5;124m'\u001b[39m\u001b[38;5;124miso-8859-1\u001b[39m\u001b[38;5;124m'\u001b[39m)\n",
      "Cell \u001b[1;32mIn [7], line 42\u001b[0m, in \u001b[0;36mimport_data\u001b[1;34m(file)\u001b[0m\n\u001b[0;32m     40\u001b[0m \u001b[38;5;28;01mdef\u001b[39;00m \u001b[38;5;21mimport_data\u001b[39m(file):\n\u001b[0;32m     41\u001b[0m     \u001b[38;5;124;03m\"\"\"create a dataframe and optimize its memory usage\"\"\"\u001b[39;00m\n\u001b[1;32m---> 42\u001b[0m     df \u001b[38;5;241m=\u001b[39m \u001b[43mpd\u001b[49m\u001b[38;5;241;43m.\u001b[39;49m\u001b[43mread_csv\u001b[49m\u001b[43m(\u001b[49m\u001b[43mfile\u001b[49m\u001b[43m,\u001b[49m\u001b[43m \u001b[49m\u001b[43mparse_dates\u001b[49m\u001b[38;5;241;43m=\u001b[39;49m\u001b[38;5;28;43;01mTrue\u001b[39;49;00m\u001b[43m,\u001b[49m\u001b[43m \u001b[49m\u001b[43mkeep_date_col\u001b[49m\u001b[38;5;241;43m=\u001b[39;49m\u001b[38;5;28;43;01mTrue\u001b[39;49;00m\u001b[43m)\u001b[49m\n\u001b[0;32m     43\u001b[0m     df \u001b[38;5;241m=\u001b[39m reduce_mem_usage(df)\n\u001b[0;32m     44\u001b[0m     \u001b[38;5;28;01mreturn\u001b[39;00m df\n",
      "File \u001b[1;32m~\\AppData\\Local\\Programs\\Python\\Python310\\lib\\site-packages\\pandas\\util\\_decorators.py:311\u001b[0m, in \u001b[0;36mdeprecate_nonkeyword_arguments.<locals>.decorate.<locals>.wrapper\u001b[1;34m(*args, **kwargs)\u001b[0m\n\u001b[0;32m    305\u001b[0m \u001b[38;5;28;01mif\u001b[39;00m \u001b[38;5;28mlen\u001b[39m(args) \u001b[38;5;241m>\u001b[39m num_allow_args:\n\u001b[0;32m    306\u001b[0m     warnings\u001b[38;5;241m.\u001b[39mwarn(\n\u001b[0;32m    307\u001b[0m         msg\u001b[38;5;241m.\u001b[39mformat(arguments\u001b[38;5;241m=\u001b[39marguments),\n\u001b[0;32m    308\u001b[0m         \u001b[38;5;167;01mFutureWarning\u001b[39;00m,\n\u001b[0;32m    309\u001b[0m         stacklevel\u001b[38;5;241m=\u001b[39mstacklevel,\n\u001b[0;32m    310\u001b[0m     )\n\u001b[1;32m--> 311\u001b[0m \u001b[38;5;28;01mreturn\u001b[39;00m func(\u001b[38;5;241m*\u001b[39margs, \u001b[38;5;241m*\u001b[39m\u001b[38;5;241m*\u001b[39mkwargs)\n",
      "File \u001b[1;32m~\\AppData\\Local\\Programs\\Python\\Python310\\lib\\site-packages\\pandas\\io\\parsers\\readers.py:678\u001b[0m, in \u001b[0;36mread_csv\u001b[1;34m(filepath_or_buffer, sep, delimiter, header, names, index_col, usecols, squeeze, prefix, mangle_dupe_cols, dtype, engine, converters, true_values, false_values, skipinitialspace, skiprows, skipfooter, nrows, na_values, keep_default_na, na_filter, verbose, skip_blank_lines, parse_dates, infer_datetime_format, keep_date_col, date_parser, dayfirst, cache_dates, iterator, chunksize, compression, thousands, decimal, lineterminator, quotechar, quoting, doublequote, escapechar, comment, encoding, encoding_errors, dialect, error_bad_lines, warn_bad_lines, on_bad_lines, delim_whitespace, low_memory, memory_map, float_precision, storage_options)\u001b[0m\n\u001b[0;32m    663\u001b[0m kwds_defaults \u001b[38;5;241m=\u001b[39m _refine_defaults_read(\n\u001b[0;32m    664\u001b[0m     dialect,\n\u001b[0;32m    665\u001b[0m     delimiter,\n\u001b[1;32m   (...)\u001b[0m\n\u001b[0;32m    674\u001b[0m     defaults\u001b[38;5;241m=\u001b[39m{\u001b[38;5;124m\"\u001b[39m\u001b[38;5;124mdelimiter\u001b[39m\u001b[38;5;124m\"\u001b[39m: \u001b[38;5;124m\"\u001b[39m\u001b[38;5;124m,\u001b[39m\u001b[38;5;124m\"\u001b[39m},\n\u001b[0;32m    675\u001b[0m )\n\u001b[0;32m    676\u001b[0m kwds\u001b[38;5;241m.\u001b[39mupdate(kwds_defaults)\n\u001b[1;32m--> 678\u001b[0m \u001b[38;5;28;01mreturn\u001b[39;00m \u001b[43m_read\u001b[49m\u001b[43m(\u001b[49m\u001b[43mfilepath_or_buffer\u001b[49m\u001b[43m,\u001b[49m\u001b[43m \u001b[49m\u001b[43mkwds\u001b[49m\u001b[43m)\u001b[49m\n",
      "File \u001b[1;32m~\\AppData\\Local\\Programs\\Python\\Python310\\lib\\site-packages\\pandas\\io\\parsers\\readers.py:575\u001b[0m, in \u001b[0;36m_read\u001b[1;34m(filepath_or_buffer, kwds)\u001b[0m\n\u001b[0;32m    572\u001b[0m _validate_names(kwds\u001b[38;5;241m.\u001b[39mget(\u001b[38;5;124m\"\u001b[39m\u001b[38;5;124mnames\u001b[39m\u001b[38;5;124m\"\u001b[39m, \u001b[38;5;28;01mNone\u001b[39;00m))\n\u001b[0;32m    574\u001b[0m \u001b[38;5;66;03m# Create the parser.\u001b[39;00m\n\u001b[1;32m--> 575\u001b[0m parser \u001b[38;5;241m=\u001b[39m TextFileReader(filepath_or_buffer, \u001b[38;5;241m*\u001b[39m\u001b[38;5;241m*\u001b[39mkwds)\n\u001b[0;32m    577\u001b[0m \u001b[38;5;28;01mif\u001b[39;00m chunksize \u001b[38;5;129;01mor\u001b[39;00m iterator:\n\u001b[0;32m    578\u001b[0m     \u001b[38;5;28;01mreturn\u001b[39;00m parser\n",
      "File \u001b[1;32m~\\AppData\\Local\\Programs\\Python\\Python310\\lib\\site-packages\\pandas\\io\\parsers\\readers.py:932\u001b[0m, in \u001b[0;36mTextFileReader.__init__\u001b[1;34m(self, f, engine, **kwds)\u001b[0m\n\u001b[0;32m    929\u001b[0m     \u001b[38;5;28mself\u001b[39m\u001b[38;5;241m.\u001b[39moptions[\u001b[38;5;124m\"\u001b[39m\u001b[38;5;124mhas_index_names\u001b[39m\u001b[38;5;124m\"\u001b[39m] \u001b[38;5;241m=\u001b[39m kwds[\u001b[38;5;124m\"\u001b[39m\u001b[38;5;124mhas_index_names\u001b[39m\u001b[38;5;124m\"\u001b[39m]\n\u001b[0;32m    931\u001b[0m \u001b[38;5;28mself\u001b[39m\u001b[38;5;241m.\u001b[39mhandles: IOHandles \u001b[38;5;241m|\u001b[39m \u001b[38;5;28;01mNone\u001b[39;00m \u001b[38;5;241m=\u001b[39m \u001b[38;5;28;01mNone\u001b[39;00m\n\u001b[1;32m--> 932\u001b[0m \u001b[38;5;28mself\u001b[39m\u001b[38;5;241m.\u001b[39m_engine \u001b[38;5;241m=\u001b[39m \u001b[38;5;28;43mself\u001b[39;49m\u001b[38;5;241;43m.\u001b[39;49m\u001b[43m_make_engine\u001b[49m\u001b[43m(\u001b[49m\u001b[43mf\u001b[49m\u001b[43m,\u001b[49m\u001b[43m \u001b[49m\u001b[38;5;28;43mself\u001b[39;49m\u001b[38;5;241;43m.\u001b[39;49m\u001b[43mengine\u001b[49m\u001b[43m)\u001b[49m\n",
      "File \u001b[1;32m~\\AppData\\Local\\Programs\\Python\\Python310\\lib\\site-packages\\pandas\\io\\parsers\\readers.py:1216\u001b[0m, in \u001b[0;36mTextFileReader._make_engine\u001b[1;34m(self, f, engine)\u001b[0m\n\u001b[0;32m   1212\u001b[0m     mode \u001b[38;5;241m=\u001b[39m \u001b[38;5;124m\"\u001b[39m\u001b[38;5;124mrb\u001b[39m\u001b[38;5;124m\"\u001b[39m\n\u001b[0;32m   1213\u001b[0m \u001b[38;5;66;03m# error: No overload variant of \"get_handle\" matches argument types\u001b[39;00m\n\u001b[0;32m   1214\u001b[0m \u001b[38;5;66;03m# \"Union[str, PathLike[str], ReadCsvBuffer[bytes], ReadCsvBuffer[str]]\"\u001b[39;00m\n\u001b[0;32m   1215\u001b[0m \u001b[38;5;66;03m# , \"str\", \"bool\", \"Any\", \"Any\", \"Any\", \"Any\", \"Any\"\u001b[39;00m\n\u001b[1;32m-> 1216\u001b[0m \u001b[38;5;28mself\u001b[39m\u001b[38;5;241m.\u001b[39mhandles \u001b[38;5;241m=\u001b[39m \u001b[43mget_handle\u001b[49m\u001b[43m(\u001b[49m\u001b[43m  \u001b[49m\u001b[38;5;66;43;03m# type: ignore[call-overload]\u001b[39;49;00m\n\u001b[0;32m   1217\u001b[0m \u001b[43m    \u001b[49m\u001b[43mf\u001b[49m\u001b[43m,\u001b[49m\n\u001b[0;32m   1218\u001b[0m \u001b[43m    \u001b[49m\u001b[43mmode\u001b[49m\u001b[43m,\u001b[49m\n\u001b[0;32m   1219\u001b[0m \u001b[43m    \u001b[49m\u001b[43mencoding\u001b[49m\u001b[38;5;241;43m=\u001b[39;49m\u001b[38;5;28;43mself\u001b[39;49m\u001b[38;5;241;43m.\u001b[39;49m\u001b[43moptions\u001b[49m\u001b[38;5;241;43m.\u001b[39;49m\u001b[43mget\u001b[49m\u001b[43m(\u001b[49m\u001b[38;5;124;43m\"\u001b[39;49m\u001b[38;5;124;43mencoding\u001b[39;49m\u001b[38;5;124;43m\"\u001b[39;49m\u001b[43m,\u001b[49m\u001b[43m \u001b[49m\u001b[38;5;28;43;01mNone\u001b[39;49;00m\u001b[43m)\u001b[49m\u001b[43m,\u001b[49m\n\u001b[0;32m   1220\u001b[0m \u001b[43m    \u001b[49m\u001b[43mcompression\u001b[49m\u001b[38;5;241;43m=\u001b[39;49m\u001b[38;5;28;43mself\u001b[39;49m\u001b[38;5;241;43m.\u001b[39;49m\u001b[43moptions\u001b[49m\u001b[38;5;241;43m.\u001b[39;49m\u001b[43mget\u001b[49m\u001b[43m(\u001b[49m\u001b[38;5;124;43m\"\u001b[39;49m\u001b[38;5;124;43mcompression\u001b[39;49m\u001b[38;5;124;43m\"\u001b[39;49m\u001b[43m,\u001b[49m\u001b[43m \u001b[49m\u001b[38;5;28;43;01mNone\u001b[39;49;00m\u001b[43m)\u001b[49m\u001b[43m,\u001b[49m\n\u001b[0;32m   1221\u001b[0m \u001b[43m    \u001b[49m\u001b[43mmemory_map\u001b[49m\u001b[38;5;241;43m=\u001b[39;49m\u001b[38;5;28;43mself\u001b[39;49m\u001b[38;5;241;43m.\u001b[39;49m\u001b[43moptions\u001b[49m\u001b[38;5;241;43m.\u001b[39;49m\u001b[43mget\u001b[49m\u001b[43m(\u001b[49m\u001b[38;5;124;43m\"\u001b[39;49m\u001b[38;5;124;43mmemory_map\u001b[39;49m\u001b[38;5;124;43m\"\u001b[39;49m\u001b[43m,\u001b[49m\u001b[43m \u001b[49m\u001b[38;5;28;43;01mFalse\u001b[39;49;00m\u001b[43m)\u001b[49m\u001b[43m,\u001b[49m\n\u001b[0;32m   1222\u001b[0m \u001b[43m    \u001b[49m\u001b[43mis_text\u001b[49m\u001b[38;5;241;43m=\u001b[39;49m\u001b[43mis_text\u001b[49m\u001b[43m,\u001b[49m\n\u001b[0;32m   1223\u001b[0m \u001b[43m    \u001b[49m\u001b[43merrors\u001b[49m\u001b[38;5;241;43m=\u001b[39;49m\u001b[38;5;28;43mself\u001b[39;49m\u001b[38;5;241;43m.\u001b[39;49m\u001b[43moptions\u001b[49m\u001b[38;5;241;43m.\u001b[39;49m\u001b[43mget\u001b[49m\u001b[43m(\u001b[49m\u001b[38;5;124;43m\"\u001b[39;49m\u001b[38;5;124;43mencoding_errors\u001b[39;49m\u001b[38;5;124;43m\"\u001b[39;49m\u001b[43m,\u001b[49m\u001b[43m \u001b[49m\u001b[38;5;124;43m\"\u001b[39;49m\u001b[38;5;124;43mstrict\u001b[39;49m\u001b[38;5;124;43m\"\u001b[39;49m\u001b[43m)\u001b[49m\u001b[43m,\u001b[49m\n\u001b[0;32m   1224\u001b[0m \u001b[43m    \u001b[49m\u001b[43mstorage_options\u001b[49m\u001b[38;5;241;43m=\u001b[39;49m\u001b[38;5;28;43mself\u001b[39;49m\u001b[38;5;241;43m.\u001b[39;49m\u001b[43moptions\u001b[49m\u001b[38;5;241;43m.\u001b[39;49m\u001b[43mget\u001b[49m\u001b[43m(\u001b[49m\u001b[38;5;124;43m\"\u001b[39;49m\u001b[38;5;124;43mstorage_options\u001b[39;49m\u001b[38;5;124;43m\"\u001b[39;49m\u001b[43m,\u001b[49m\u001b[43m \u001b[49m\u001b[38;5;28;43;01mNone\u001b[39;49;00m\u001b[43m)\u001b[49m\u001b[43m,\u001b[49m\n\u001b[0;32m   1225\u001b[0m \u001b[43m\u001b[49m\u001b[43m)\u001b[49m\n\u001b[0;32m   1226\u001b[0m \u001b[38;5;28;01massert\u001b[39;00m \u001b[38;5;28mself\u001b[39m\u001b[38;5;241m.\u001b[39mhandles \u001b[38;5;129;01mis\u001b[39;00m \u001b[38;5;129;01mnot\u001b[39;00m \u001b[38;5;28;01mNone\u001b[39;00m\n\u001b[0;32m   1227\u001b[0m f \u001b[38;5;241m=\u001b[39m \u001b[38;5;28mself\u001b[39m\u001b[38;5;241m.\u001b[39mhandles\u001b[38;5;241m.\u001b[39mhandle\n",
      "File \u001b[1;32m~\\AppData\\Local\\Programs\\Python\\Python310\\lib\\site-packages\\pandas\\io\\common.py:786\u001b[0m, in \u001b[0;36mget_handle\u001b[1;34m(path_or_buf, mode, encoding, compression, memory_map, is_text, errors, storage_options)\u001b[0m\n\u001b[0;32m    781\u001b[0m \u001b[38;5;28;01melif\u001b[39;00m \u001b[38;5;28misinstance\u001b[39m(handle, \u001b[38;5;28mstr\u001b[39m):\n\u001b[0;32m    782\u001b[0m     \u001b[38;5;66;03m# Check whether the filename is to be opened in binary mode.\u001b[39;00m\n\u001b[0;32m    783\u001b[0m     \u001b[38;5;66;03m# Binary mode does not support 'encoding' and 'newline'.\u001b[39;00m\n\u001b[0;32m    784\u001b[0m     \u001b[38;5;28;01mif\u001b[39;00m ioargs\u001b[38;5;241m.\u001b[39mencoding \u001b[38;5;129;01mand\u001b[39;00m \u001b[38;5;124m\"\u001b[39m\u001b[38;5;124mb\u001b[39m\u001b[38;5;124m\"\u001b[39m \u001b[38;5;129;01mnot\u001b[39;00m \u001b[38;5;129;01min\u001b[39;00m ioargs\u001b[38;5;241m.\u001b[39mmode:\n\u001b[0;32m    785\u001b[0m         \u001b[38;5;66;03m# Encoding\u001b[39;00m\n\u001b[1;32m--> 786\u001b[0m         handle \u001b[38;5;241m=\u001b[39m \u001b[38;5;28;43mopen\u001b[39;49m\u001b[43m(\u001b[49m\n\u001b[0;32m    787\u001b[0m \u001b[43m            \u001b[49m\u001b[43mhandle\u001b[49m\u001b[43m,\u001b[49m\n\u001b[0;32m    788\u001b[0m \u001b[43m            \u001b[49m\u001b[43mioargs\u001b[49m\u001b[38;5;241;43m.\u001b[39;49m\u001b[43mmode\u001b[49m\u001b[43m,\u001b[49m\n\u001b[0;32m    789\u001b[0m \u001b[43m            \u001b[49m\u001b[43mencoding\u001b[49m\u001b[38;5;241;43m=\u001b[39;49m\u001b[43mioargs\u001b[49m\u001b[38;5;241;43m.\u001b[39;49m\u001b[43mencoding\u001b[49m\u001b[43m,\u001b[49m\n\u001b[0;32m    790\u001b[0m \u001b[43m            \u001b[49m\u001b[43merrors\u001b[49m\u001b[38;5;241;43m=\u001b[39;49m\u001b[43merrors\u001b[49m\u001b[43m,\u001b[49m\n\u001b[0;32m    791\u001b[0m \u001b[43m            \u001b[49m\u001b[43mnewline\u001b[49m\u001b[38;5;241;43m=\u001b[39;49m\u001b[38;5;124;43m\"\u001b[39;49m\u001b[38;5;124;43m\"\u001b[39;49m\u001b[43m,\u001b[49m\n\u001b[0;32m    792\u001b[0m \u001b[43m        \u001b[49m\u001b[43m)\u001b[49m\n\u001b[0;32m    793\u001b[0m     \u001b[38;5;28;01melse\u001b[39;00m:\n\u001b[0;32m    794\u001b[0m         \u001b[38;5;66;03m# Binary mode\u001b[39;00m\n\u001b[0;32m    795\u001b[0m         handle \u001b[38;5;241m=\u001b[39m \u001b[38;5;28mopen\u001b[39m(handle, ioargs\u001b[38;5;241m.\u001b[39mmode)\n",
      "\u001b[1;31mFileNotFoundError\u001b[0m: [Errno 2] No such file or directory: '../input/wowah_data.csv'"
     ]
    }
   ],
   "source": [
    "wowah = import_data('./input/wowah_data.csv')\n",
    "zones = pd.read_csv('./input/zones.csv', encoding='iso-8859-1')\n",
    "location_coords = pd.read_csv('./input/location_coords.csv', encoding='iso-8859-1')\n",
    "locations = pd.read_csv('./input/locations.csv', encoding='iso-8859-1')"
   ]
  },
  {
   "cell_type": "code",
   "execution_count": null,
   "metadata": {},
   "outputs": [],
   "source": [
    "wowah.rename({'char': 'player', \n",
    "              ' level': 'level',\n",
    "              ' race': 'race',\n",
    "              ' charclass': 'class',\n",
    "              ' zone': 'zone',\n",
    "              ' guild': 'guild',\n",
    "              ' timestamp': 'timestamp'}, axis=1, inplace=True)\n",
    "zones['Zone_Name'].replace({'Dalaran<U+7AF6><U+6280><U+5834>': 'Dalaran Arena'}, inplace=True)\n",
    "wowah['zone'].replace({'Dalaran競技場': 'Dalaran Arena'}, inplace=True)\n",
    "\n",
    "def time_transform(x):\n",
    "    y = x.split()[0]\n",
    "    return y[:-2] + '20' + y[-2:]\n",
    "\n",
    "wowah['date'] = wowah['timestamp'].apply(time_transform)\n",
    "wowah['time'] = wowah['timestamp'].apply(lambda x: x.split()[1][:-4] + '0')\n",
    "\n",
    "zones_dict = zones[['Zone_Name', 'Type']].set_index(['Zone_Name']).T.to_dict('records')[0]\n",
    "wowah['zone_type'] = wowah['zone'].map(zones_dict)\n",
    "\n",
    "wowah['class_id'] = np.array(pd.factorize(wowah['class'])[0])\n",
    "wowah['race_id'] = np.array(pd.factorize(wowah['race'])[0])\n",
    "wowah['class_id'] = wowah['class_id'].astype(str)\n",
    "wowah['race_id'] = wowah['race_id'].astype(str)\n",
    "wowah['sym'] = pd.Series(index = wowah.index, data='#')\n",
    "wowah['char'] = wowah[['race_id', 'class_id', 'sym', 'player']].astype(str).sum(axis=1)\n",
    "wowah.drop(['race_id', 'class_id', 'sym'], axis=1, inplace=True)\n",
    "\n",
    "zones['Min_rec_level'].iloc[27] = 25.0\n",
    "zones['Max_rec_level'].iloc[27] = 30.0"
   ]
  },
  {
   "cell_type": "code",
   "execution_count": null,
   "metadata": {
    "_kg_hide-input": false
   },
   "outputs": [],
   "source": [
    "print('Records dataframe size:', wowah.shape)\n",
    "print('Data on {:.0f} players and {:.0f} their charachters available'.format(len(wowah['player'].unique()), len(wowah['char'].unique())))\n",
    "wowah.head()"
   ]
  },
  {
   "cell_type": "markdown",
   "metadata": {},
   "source": [
    "A quick note on other files: *locations.csv* contains some additional information on the zones; the problem is that this file, unlike *zones.csv*, isn't based on the records dataframe, meaning that is lacks a lot of zones mentioned in it and at the same time has info on zones from the expansions beyond *Wrath of the Lich King*. As for *location_coords.csv*, it contains coordinates for the zones from *locations.csv*, which could be *theoretically* used to show players' movement on the global map... if only we had *WoW* shapefile."
   ]
  },
  {
   "cell_type": "markdown",
   "metadata": {},
   "source": [
    "# Expansions <a id=\"4\"></a>\n",
    "\n",
    "Before we dive into the records dataframe, let's have a quick look at the *locations.csv*. Although we can't utilize it directly, as already mentioned above, there is some interesting statistic to extract from it, concerning the amount of PVE content each expansions brought, up until *Warlords of Draenor* (wish we could also analyze PVP and levelling content, but its really messed up in the file, unfortunately). So, the plot below shows us that the game is going through a some hard time after *Wrath of the Lich King*, as each new expansion brought notably less dungeons and raids."
   ]
  },
  {
   "cell_type": "code",
   "execution_count": null,
   "metadata": {
    "_kg_hide-input": true
   },
   "outputs": [],
   "source": [
    "loc_df = locations[locations['Location_Type'].isin(['Dungeon', 'Raid'])].pivot_table(columns='Game_Version',\n",
    "                                                                            index='Location_Type',\n",
    "                                                                            values='Location_Name',\n",
    "                                                                            aggfunc=lambda x: x.count())[['WoW','TBC','WLK','CAT','MoP','WoD']]\n",
    "\n",
    "import plotly.graph_objects as go\n",
    "\n",
    "fig = go.Figure(data=[\n",
    "    go.Bar(name='Dungeons', x=loc_df.columns, y=loc_df.loc['Dungeon',:]),\n",
    "    go.Bar(name='Raids', x=loc_df.columns, y=loc_df.loc['Raid',:])\n",
    "])\n",
    "\n",
    "fig.update_layout(title='Dungeons & Raids/Expansion', barmode='group')\n",
    "fig.show()"
   ]
  },
  {
   "cell_type": "code",
   "execution_count": null,
   "metadata": {
    "_kg_hide-input": true,
    "_kg_hide-output": true
   },
   "outputs": [],
   "source": [
    "del loc_df\n",
    "gc.collect()"
   ]
  },
  {
   "cell_type": "markdown",
   "metadata": {},
   "source": [
    "# Race/Class Statistics <a id=\"5\"></a>\n",
    "\n",
    "Alright, moving on to *wowah.csv*. Let's start with something really simple, like basic statistics concerning players' race/class preference."
   ]
  },
  {
   "cell_type": "code",
   "execution_count": null,
   "metadata": {
    "_kg_hide-input": true
   },
   "outputs": [],
   "source": [
    "from plotly.subplots import make_subplots\n",
    "\n",
    "race_stats = wowah.drop_duplicates(['char']).groupby(['race'], as_index=False)['char'].count().sort_values(['char'], ascending=False)\n",
    "class_stats = wowah.drop_duplicates(['char']).groupby(['class'], as_index=False)['char'].count().sort_values(['char'], ascending=False)\n",
    "\n",
    "race_colors = ['#dc1c13', '#ea4c46', '#f07470', '#f1959b', '#f6bdc0']\n",
    "class_colors = ['#dc1c13', '#E3342D', '#ea4c46', '#ED605B', '#f07470',\n",
    "                '#F17D7B', '#F18586', '#f1959b', '#F4A9AE', '#f6bdc0']\n",
    "\n",
    "fig = make_subplots(rows=1, cols=2, specs=[[{'type':'domain'}, {'type':'domain'}]])\n",
    "fig.add_trace(go.Pie(labels=race_stats['race'],\n",
    "                     values=race_stats['char'],\n",
    "                     name=\"\",\n",
    "                     marker=dict(colors=race_colors, line=dict(color='#ffffff', width=0.5)),\n",
    "                     showlegend=False\n",
    "                    ),\n",
    "              1, 1)\n",
    "fig.add_trace(go.Pie(labels=class_stats['class'],\n",
    "                     values=class_stats['char'],\n",
    "                     name=\"\",\n",
    "                     marker=dict(colors=class_colors, line=dict(color='#ffffff', width=0.5)),\n",
    "                     textfont=dict(size=11),\n",
    "                     showlegend=False),\n",
    "              1, 2)\n",
    "\n",
    "fig.update_traces(hole=.4, hoverinfo=\"value+percent\", textinfo=\"label\")\n",
    "\n",
    "fig.update_layout(\n",
    "    title_text=\"Popularity Charts\",\n",
    "    # Add annotations in the center of the donut pies.\n",
    "    annotations=[dict(text='Race', x=0.18, y=0.5, font_size=20, showarrow=False),\n",
    "                 dict(text='Class', x=0.825, y=0.5, font_size=20, showarrow=False)]\n",
    ")\n",
    "fig.show()"
   ]
  },
  {
   "cell_type": "code",
   "execution_count": null,
   "metadata": {
    "_kg_hide-input": true
   },
   "outputs": [],
   "source": [
    "race_class_mix = wowah.drop_duplicates(['char']).pivot_table(values='char',\n",
    "                                                             index='race',\n",
    "                                                             columns='class',\n",
    "                                                     aggfunc=lambda x: x.value_counts().count()).fillna(0).astype(int)\n",
    "\n",
    "_, ax = plt.subplots(1, 1, figsize=(14, 5.5))\n",
    "sns.set_context(\"paper\", font_scale=1.4) \n",
    "sns.heatmap(race_class_mix, annot=True, cmap='Reds', fmt='g', ax=ax)\n",
    "plt.title('Race/Class Combinations')\n",
    "ax.set_xticklabels(ax.get_xticklabels(), rotation=0)\n",
    "ax.set_yticklabels(ax.get_yticklabels(), va='center')\n",
    "ax.set(ylabel='', xlabel='')\n",
    "plt.show()"
   ]
  },
  {
   "cell_type": "code",
   "execution_count": null,
   "metadata": {
    "_kg_hide-input": true,
    "_kg_hide-output": true
   },
   "outputs": [],
   "source": [
    "del race_stats\n",
    "del class_stats\n",
    "del race_class_mix\n",
    "gc.collect()"
   ]
  },
  {
   "cell_type": "markdown",
   "metadata": {},
   "source": [
    "Some of the race/class combinations seem to be missing. The reason is that they are simply restricted, because, well, can you imagine an **Undead Paladin**? See [this page](https://wow.gamepedia.com/Class#Class.2C_race_and_class_roles) for all available combos. Combos popularity, obviously, depends on their efficiency, determined by the synergy between racial traits and class needs. There is also a roleplaying aspect, very important for RP-players, who consider only *lore-wise* combinations to not look ridiculous."
   ]
  },
  {
   "cell_type": "markdown",
   "metadata": {},
   "source": [
    "# Players Activity <a id=\"6\"></a>\n",
    "\n",
    "### Throughout the Year <a id=\"7\"></a>\n",
    "\n",
    "The best way to study everyday players activity (expressed in unique logins per day) over the course of the whole 2008 would be the **calendar heatmap**, something like the one you got in your Kaggle/GitHub profile. First of all, let's check if we got information on every single day of 2008."
   ]
  },
  {
   "cell_type": "code",
   "execution_count": null,
   "metadata": {
    "_kg_hide-input": true
   },
   "outputs": [],
   "source": [
    "activity = wowah.groupby('date')['char'].nunique().to_frame('char').reset_index()\n",
    "\n",
    "all_dates = pd.Series(pd.date_range('01/01/08', freq='D', periods=365))\n",
    "all_dates = all_dates.dt.strftime('%m/%d/%Y')\n",
    "\n",
    "missing_dates = list(set(all_dates) - set(activity['date'].unique()))\n",
    "print('Missing dates:', *(missing_dates), sep='\\n')"
   ]
  },
  {
   "cell_type": "markdown",
   "metadata": {},
   "source": [
    "Apparently not. Assuming there were no troubles with collecting the data, these gaps are most likely maintance days or just server troubles. And right below is your nice heatmap, showing clearly the main trends, like, e.g., there are way more people playing on holidays and weekends."
   ]
  },
  {
   "cell_type": "code",
   "execution_count": null,
   "metadata": {
    "_kg_hide-input": true
   },
   "outputs": [],
   "source": [
    "add_df = pd.DataFrame(columns=['date', 'char'])\n",
    "add_df['date'] = missing_dates\n",
    "add_df['char'] = 0\n",
    "\n",
    "activity = pd.concat([activity, add_df])\n",
    "activity['date'] = pd.to_datetime(activity['date'])\n",
    "activity.sort_values(by=['date'], inplace=True)\n",
    "activity.reset_index(drop=True, inplace=True)\n",
    "\n",
    "#Source: https://community.plot.ly/t/colored-calendar-heatmap-in-dash/10907/9\n",
    "import datetime\n",
    "\n",
    "start = activity['date'].iloc[0]\n",
    "end = activity['date'].iloc[-1]\n",
    "\n",
    "d1 = datetime.date(start.year, start.month, start.day)\n",
    "d2 = datetime.date(end.year, end.month, end.day)\n",
    "\n",
    "delta = d2 - d1\n",
    "\n",
    "dates_in_year = [d1 + datetime.timedelta(i) for i in range(delta.days+1)] \n",
    "#gives me a list with datetimes for each day a year\n",
    "\n",
    "weekdays_in_year = [6 - i.weekday() for i in dates_in_year] \n",
    "#gives [1,2,3,4,5,6,0,1,2,3,4,5,6,…] (ticktext in xaxis dict translates this to weekdays\n",
    "\n",
    "weeknumber_of_dates = [i.strftime(\"%Gww%V\")[2:] for i in dates_in_year] \n",
    "#gives [1,1,1,1,1,1,1,2,2,2,2,2,2,2,…] name is self-explanatory\n",
    "\n",
    "z = activity['char']\n",
    "\n",
    "text = [str(i).replace('-','/') for i in dates_in_year] \n",
    "#gives something like list of strings like ‘2018-01-25’ for each date. Used in data trace to make good hovertext.\n",
    "colorscale=[[False, '#eeeeee'], [True, '#76cf63']]\n",
    "\n",
    "data = [go.Heatmap(x = weeknumber_of_dates,\n",
    "                   y = weekdays_in_year,\n",
    "                   z = z,\n",
    "                   text=text,\n",
    "                   hoverinfo='text+z',\n",
    "                   xgap=3, # this\n",
    "                   ygap=3, # and this is used to make the grid-like apperance\n",
    "                   showscale=False,\n",
    "                   colorscale='Hot',\n",
    "                   reversescale=True)]\n",
    "layout = go.Layout(title='Players Activity throughout the Year',\n",
    "                   height=230,\n",
    "                   width=1000,\n",
    "                   yaxis=dict(showline = False, \n",
    "                              showgrid = False, \n",
    "                              zeroline = False,\n",
    "                              tickmode='array',\n",
    "                              ticktext=['Mon', 'Tue', 'Wed', 'Thu', 'Fri', 'Sat', 'Sun'][::-1],\n",
    "                              tickvals=list(range(7))),\n",
    "                   xaxis=dict(showline = False, \n",
    "                              showgrid = False, \n",
    "                              zeroline = False,\n",
    "                              tickmode='array',\n",
    "                              ticktext=['Jan', 'Feb', 'Mar', 'Apr', 'May', 'Jun',\n",
    "                                        'Jul','Aug', 'Sep', 'Oct', 'Nov', 'Dec'],\n",
    "                              tickvals=[0, 4, 8, 13, 17, 21, 26, 30, 35, 39, 43, 48]),\n",
    "                   font={'size':10, 'color':'#9e9e9e'},\n",
    "                   plot_bgcolor=('#fff'),\n",
    "                   margin=dict(t=40))\n",
    "fig = go.Figure(data=data, layout=layout)\n",
    "fig.show()"
   ]
  },
  {
   "cell_type": "markdown",
   "metadata": {},
   "source": [
    "There is, however, one little problem with that map — it doesn't demonstrate the difference in activity throughout the year between different levels. Let's study this case, using another type of visualization."
   ]
  },
  {
   "cell_type": "code",
   "execution_count": null,
   "metadata": {
    "_kg_hide-input": true
   },
   "outputs": [],
   "source": [
    "wowah['level_bins'] = pd.cut(wowah['level'], [0, 15, 60, 70, 80])\n",
    "lvl_act = wowah.pivot_table(index='date',\n",
    "                            columns=['level_bins'],\n",
    "                            values='char',\n",
    "                            aggfunc=lambda x: x.value_counts().count()).fillna(0).astype(int)\n",
    "lvl_act.columns = ['1-15', '15-60', '60-70', '70-80']\n",
    "lvl_act.reset_index(inplace=True)\n",
    "\n",
    "all_dates = pd.Series(pd.date_range('01/01/08', freq='D', periods=365))\n",
    "all_dates = all_dates.dt.strftime('%m/%d/%Y')\n",
    "missing_dates = list(set(all_dates) - set(lvl_act['date'].unique()))\n",
    "\n",
    "add_df = pd.DataFrame(columns=['date'])\n",
    "add_df['date'] = missing_dates\n",
    "\n",
    "lvl_act = pd.concat([lvl_act, add_df])\n",
    "lvl_act['date'] = pd.to_datetime(lvl_act['date'])\n",
    "lvl_act.sort_values(by=['date'], inplace=True)\n",
    "lvl_act.reset_index(drop=True, inplace=True)\n",
    "lvl_act['date'] = lvl_act['date'].dt.strftime('%m/%d/%Y')\n",
    "\n",
    "fig = go.Figure()\n",
    "colormap = ['purple', 'orange', 'green', 'blue', 'purple']\n",
    "columns = ['1-15', '15-60', '60-70', '70-80']\n",
    "for color, column in zip(colormap, columns):\n",
    "    fig.add_trace(go.Scatter(\n",
    "                    x=lvl_act['date'],\n",
    "                    y=lvl_act[column],\n",
    "                    name=column,\n",
    "                    line_color=color,\n",
    "                    hoverinfo='name+x+y',\n",
    "                    opacity=0.8))\n",
    "fig.update_layout(title_text=\"Players Activity over Year/Levels\", \n",
    "                 xaxis=dict(\n",
    "                     tickmode='array',\n",
    "                     ticktext=['Jan', 'Feb', 'Mar', 'Apr', 'May', 'Jun', 'Jul', 'Aug', 'Sep', 'Oct', 'Nov', 'Dec'],\n",
    "                     tickvals=[1, 31, 60, 91, 121, 152, 182, 213, 244, 274, 304, 335]),\n",
    "                  xaxis_rangeslider_visible=True)\n",
    "fig.show()"
   ]
  },
  {
   "cell_type": "markdown",
   "metadata": {},
   "source": [
    "The plot has a ridge shape, with it peaks at weekends and drops in the middle of the week. On **November 18** first level 80s start appearing, and as we know, *WLK* was released on **November 13**, so it took only **5 days** for the most enthusiastic players to get to the next level cap. We will research players' levelling more closely a bit later."
   ]
  },
  {
   "cell_type": "code",
   "execution_count": null,
   "metadata": {
    "_kg_hide-input": true,
    "_kg_hide-output": true
   },
   "outputs": [],
   "source": [
    "del activity\n",
    "del add_df\n",
    "del lvl_act\n",
    "gc.collect()"
   ]
  },
  {
   "cell_type": "markdown",
   "metadata": {},
   "source": [
    "### Average Day <a id=\"8\"></a>\n",
    "\n",
    "Let's delve deeper into players' activity and investigate the average day of the *WoW* server. What's your prime time for raiding and what time is the worst to log in, unless you want to play with yourself?"
   ]
  },
  {
   "cell_type": "code",
   "execution_count": null,
   "metadata": {
    "_kg_hide-input": true
   },
   "outputs": [],
   "source": [
    "tmp_df = wowah.groupby(by=['time', 'date'])['char'].nunique().to_frame('char').reset_index()\n",
    "day_activity = round(tmp_df.groupby(['time'], as_index=False)['char'].mean())\n",
    "\n",
    "for zone_type in ['Arena', 'Battleground', 'City', 'Dungeon']:\n",
    "    day_activity[zone_type] = np.array(round((wowah[wowah['zone_type'] == zone_type] \\\n",
    "                                                .groupby(by=['time', 'date'])['char'] \\\n",
    "                                                .nunique() \\\n",
    "                                                .to_frame('char') \\\n",
    "                                                .reset_index()).groupby(['time'])['char'].mean()))\n",
    "day_activity['Zone'] = np.array(round((wowah[(wowah['zone_type'] == 'Zone') | \n",
    "                                               (wowah['zone_type'] == 'Sea') | \n",
    "                                               (wowah['zone_type'] == 'Transit')] \\\n",
    "                                                .groupby(by=['time', 'date'])['char'] \\\n",
    "                                                .nunique() \\\n",
    "                                                .to_frame('char') \\\n",
    "                                                .reset_index()).groupby(['time'])['char'].mean()))\n",
    "day_activity.rename({'char': 'Total', 'time': 'Time'}, axis=1, inplace=True)\n",
    "\n",
    "fig = go.Figure()\n",
    "colormap = ['red', 'orange', 'green', 'blue', 'purple']\n",
    "columns = list(day_activity.columns[1:])\n",
    "for color, column in zip(colormap, columns):\n",
    "    fig.add_trace(go.Scatter(\n",
    "                    x=day_activity['Time'],\n",
    "                    y=day_activity[column],\n",
    "                    name=column,\n",
    "                    line_color=color,\n",
    "                    hoverinfo='name+x+y',\n",
    "                    opacity=0.8))\n",
    "fig.update_layout(title_text=\"Players Activity on average Day\")\n",
    "fig.show()"
   ]
  },
  {
   "cell_type": "code",
   "execution_count": null,
   "metadata": {
    "_kg_hide-input": true,
    "_kg_hide-output": true
   },
   "outputs": [],
   "source": [
    "del tmp_df\n",
    "del day_activity\n",
    "gc.collect()"
   ]
  },
  {
   "cell_type": "markdown",
   "metadata": {},
   "source": [
    "Most of the players log in somewhere after 18:00 and leave the game by 02:00. 22:40 is the activity peak, while 06:00 is its lowest point. Note how highly **Dungeons** activity resonates with the **Total** one, while the rest seem to be more of less stable. **Arena** is the least popular activity, while **City** and **Battleground** are very close to each other most of the time. My theory is that most of the players participating in PVP just sit in their capitals and use queue to jump into the next match."
   ]
  },
  {
   "cell_type": "markdown",
   "metadata": {},
   "source": [
    "# Guilds <a id=\"9\"></a>\n",
    "\n",
    "To get cleaner statistics, we will analyze only characters created in **2008**."
   ]
  },
  {
   "cell_type": "code",
   "execution_count": null,
   "metadata": {
    "_kg_hide-input": true
   },
   "outputs": [],
   "source": [
    "print('Number of guilds on the server:', len(wowah['guild'].unique())-1)\n",
    "\n",
    "chars_2008 = wowah.groupby(['char'], as_index=False)['level', 'guild', 'class'].first()\n",
    "chars_2008 = chars_2008[(chars_2008['level'] == 1) | ((chars_2008['level'] == 55) & (chars_2008['class'] == 'Death Knight'))]\n",
    "\n",
    "first_joined = wowah[(wowah['char'].isin(chars_2008['char'])) & (wowah['guild'] != -1)].groupby(['char'], as_index=False)['guild', 'level'].first()\n",
    "print('Number of players ever joined the guild:', len(first_joined))\n",
    "\n",
    "never_joined = wowah[wowah['char'].isin(chars_2008['char'])].groupby(['char'], as_index=False)['guild', 'level'].max()\n",
    "print('Number of players never joined the guild:', len(never_joined))\n",
    "never_joined = never_joined[never_joined['guild'] == -1]"
   ]
  },
  {
   "cell_type": "markdown",
   "metadata": {},
   "source": [
    "The ratio seems dramatic, however, most people who \"never joined\" the guild actually just hadn't joined one before 2008 ended. This, obviously, includes a large amount of novices who started their characters at the end of the year. Here are two plots who make this information more clear."
   ]
  },
  {
   "cell_type": "code",
   "execution_count": null,
   "metadata": {
    "_kg_hide-input": true
   },
   "outputs": [],
   "source": [
    "fig = make_subplots(rows=2, cols=1, specs=[[{'type':'xy'}], [{'type':'xy'}]])\n",
    "\n",
    "fig.add_trace(go.Histogram(x=first_joined['level'],\n",
    "                           y=first_joined['char'],\n",
    "                           name='First Lvl Joined'), 1, 1)\n",
    "fig.add_trace(go.Histogram(x=never_joined['level'],\n",
    "                           y=never_joined['char'],\n",
    "                           name='Max Lvl Never Joined'), 2, 1)\n",
    "\n",
    "fig.update_layout(title_text=\"Guild/No-Guild Players Stats\", \n",
    "                  height=1000)\n",
    "fig.update_traces(hoverinfo='x+y')\n",
    "fig.show()"
   ]
  },
  {
   "cell_type": "markdown",
   "metadata": {},
   "source": [
    "Huge amount of players join the guild straight on **level 1** — no doubt, the result of agressive invitation strategy, favored by guilds chasing merely the numbers. However, getting lots of players doesn't immediately form a healthy community, so many of the players recruited on level 1 tend to move to more organised guilds once they figure out the basics of *WoW* social life. Most of players had joined their first guild by the time they reached **level 20**, when they realise they are quite dependent on interaction with other players — and in guild, it's so easy to get some help with questing, or find a group to run dungeons and battlegrounds, or just get something crafted. There is also a notable increase in 55-60 levels — which is most likely just Death Knights, who start on **level 55**.\n",
    "\n",
    "As for the players who aren't that social, few of them actually got to **level 80** on their own, never joining any of the guild. So, is being in one really necessary for you? What have they got to offer? Let's compare, how do players spend their time depending on whether they are in the guild or not."
   ]
  },
  {
   "cell_type": "code",
   "execution_count": null,
   "metadata": {
    "_kg_hide-input": true
   },
   "outputs": [],
   "source": [
    "wowah['zone_type'].replace({'Zone': 'Levelling',\n",
    "                            'Sea': 'Levelling',\n",
    "                            'Transit': 'Levelling',\n",
    "                            'Event': 'Dungeon', \n",
    "                            'Battleground': 'PVP', \n",
    "                            'Arena': 'PVP'}, inplace=True)\n",
    "\n",
    "guild_act = wowah[wowah['guild'] != -1 & (wowah['level'] >= 15)].pivot_table(index='date',\n",
    "                                        columns=['guild', 'zone_type'],\n",
    "                                        values='char',\n",
    "                                        aggfunc=lambda x: x.value_counts().count()).fillna(0).astype(int).sum(axis=0).reset_index().groupby(['zone_type'], as_index=False)[0].sum()\n",
    "\n",
    "no_guild_act = wowah[wowah['guild'] == -1 & (wowah['level'] >= 15)].pivot_table(index='date',\n",
    "                                        columns=['guild', 'zone_type'],\n",
    "                                        values='char',\n",
    "                                        aggfunc=lambda x: x.value_counts().count()).fillna(0).astype(int).sum(axis=0).reset_index().groupby(['zone_type'], as_index=False)[0].sum()\n",
    "\n",
    "act_colors = ['9d44d1', 'ff0000', '007fd7', 'ffb100']\n",
    "\n",
    "fig = make_subplots(rows=1, cols=2, specs=[[{'type':'domain'}, {'type':'domain'}]])\n",
    "fig.add_trace(go.Pie(labels=guild_act['zone_type'],\n",
    "                     values=guild_act[0],\n",
    "                     name=\"\",\n",
    "                     marker=dict(colors=act_colors, line=dict(color='#ffffff', width=0.5)),\n",
    "                     showlegend=False\n",
    "                    ),\n",
    "              1, 1)\n",
    "\n",
    "fig.add_trace(go.Pie(labels=no_guild_act['zone_type'],\n",
    "                     values=no_guild_act[0],\n",
    "                     name=\"\",\n",
    "                     marker=dict(colors=act_colors, line=dict(color='#ffffff', width=0.5)),\n",
    "                     showlegend=False\n",
    "                    ),\n",
    "              1, 2)\n",
    "fig.update_traces(hole=.4, hoverinfo=\"percent\", textinfo=\"label\")\n",
    "\n",
    "fig.update_layout(\n",
    "    title_text=\"Players Activity Comparison [15+ Level]\",\n",
    "    annotations=[dict(text='Guild', x=0.175, y=0.5, font_size=20, showarrow=False),\n",
    "                 dict(text='No-Guild', x=0.855, y=0.5, font_size=20, showarrow=False)]\n",
    ")\n",
    "fig.show()"
   ]
  },
  {
   "cell_type": "markdown",
   "metadata": {},
   "source": [
    "Apparently, no-guild players run dungeons as much as those in the guild, most likely not facing any troubles with finding the group (the days of vanilla hardcore PVE are long gone), however, they seem to really neglect the PVP. The reason might be that coordinated groups have an enourmous advantage over those composed of random people, and who are you going to get into your group if not your guildmates?"
   ]
  },
  {
   "cell_type": "code",
   "execution_count": null,
   "metadata": {
    "_kg_hide-input": true,
    "_kg_hide-output": true
   },
   "outputs": [],
   "source": [
    "del first_joined\n",
    "del never_joined\n",
    "del guild_act\n",
    "del no_guild_act\n",
    "gc.collect()"
   ]
  },
  {
   "cell_type": "markdown",
   "metadata": {},
   "source": [
    "# Levelling <a id=\"10\"></a>\n",
    "\n",
    "Levelling is the major part of your character's life, so be ready to spend quite some time running errands for NPCs, like killing 10 wolves here and collecting 15 something there, before you actually jump into the world of pro-raiding. *WoW* is a model example of an old MMORPG, flooded with such fetch quests, which may become tedious after a hundred of hours. So, how many of the players managed to overcome the burden of this routine?"
   ]
  },
  {
   "cell_type": "code",
   "execution_count": null,
   "metadata": {
    "_kg_hide-input": true
   },
   "outputs": [],
   "source": [
    "char_creation = wowah[wowah['level'] == 1].groupby(['date'], as_index=False)['char'].count()\n",
    "lvl_70 = wowah[(wowah['char'].isin(chars_2008['char'])) & (wowah['level'] == 70)].drop_duplicates(['char']).groupby(['date'], as_index=False)['char'].count()\n",
    "lvl_70['date'] = pd.to_datetime(lvl_70['date'])\n",
    "lvl_70 = lvl_70[lvl_70['date'] < datetime.date(2008, 10, 13)]\n",
    "lvl_70['date'] = lvl_70['date'].dt.strftime('%m/%d/%Y')\n",
    "lvl_80 = wowah[(wowah['char'].isin(chars_2008['char'])) & (wowah['level'] == 80)].drop_duplicates(['char']).groupby(['date'], as_index=False)['char'].count()\n",
    "\n",
    "print('Chars started in 2008:', len(chars_2008))\n",
    "print('Reached level 70 (TBC): {:d} ({:.2f}%)'.format(lvl_70['char'].sum(), lvl_70['char'].sum() / len(chars_2008) * 100))\n",
    "print('Reached level 80 (WLK): {:d} ({:.2f}%)'.format(lvl_80['char'].sum(), lvl_80['char'].sum() / len(chars_2008) * 100))"
   ]
  },
  {
   "cell_type": "markdown",
   "metadata": {},
   "source": [
    "Seems that only a handful of the players had actually conquered the challenges of the levelling path (although it's gotten much easier since the good old vanilla) and entered the endgame. Let's compare their number to the whole amount of players who've reached level cap, with veterans of previous years included."
   ]
  },
  {
   "cell_type": "code",
   "execution_count": null,
   "metadata": {
    "_kg_hide-input": true
   },
   "outputs": [],
   "source": [
    "lvl_70_all = wowah[wowah['level'] == 70].drop_duplicates(['char'])\n",
    "lvl_70_all['date'] = pd.to_datetime(lvl_70_all['date'])\n",
    "lvl_70_all = lvl_70_all[lvl_70_all['date'] < datetime.date(2008, 10, 13)]\n",
    "lvl_70_all['date'] = lvl_70_all['date'].dt.strftime('%m/%d/%Y')\n",
    "lvl_80_all = wowah[wowah['level'] == 80].drop_duplicates(['char'])\n",
    "\n",
    "print('TBC endgame community: {:d} ({:.2f}% of total) / 2008 players share: {:.2f}%' \\\n",
    "      .format(len(lvl_70_all), len(lvl_70_all) / len(wowah['char'].unique()) * 100, lvl_70['char'].sum() / len(lvl_70_all) * 100))\n",
    "print('WLK endgame community: {:d} ({:.2f}% of total) / 2008 players share: {:.2f}%' \\\n",
    "      .format(len(lvl_80_all), len(lvl_80_all) / len(wowah['char'].unique()) * 100, lvl_80['char'].sum() / len(lvl_80_all) * 100))"
   ]
  },
  {
   "cell_type": "markdown",
   "metadata": {},
   "source": [
    "2008 didn't bring many new players for *The Burning Crusade* endgame, as it was the end of this expansion. On the other hand, the emerging endgame community of the *Wrath of the Lich King* hadn't grown as big yet by the end of the year, however, the share of 2008 novices in it is notably larger. This shows us that *WoW* community was very renewing at the time, bringing a lot of new players with new expansions."
   ]
  },
  {
   "cell_type": "code",
   "execution_count": null,
   "metadata": {
    "_kg_hide-input": true
   },
   "outputs": [],
   "source": [
    "fig = go.Figure()\n",
    "fig.add_trace(go.Scatter(\n",
    "                x=char_creation['date'],\n",
    "                y=char_creation['char'],\n",
    "                name='Chars Started',\n",
    "                line_color='red',\n",
    "                hoverinfo='x+y',\n",
    "                opacity=0.8))\n",
    "fig.add_trace(go.Scatter(\n",
    "                x=lvl_70['date'],\n",
    "                y=lvl_70['char'],\n",
    "                name='Reached Lvl 70 (TBC)',\n",
    "                line_color='green',\n",
    "                hoverinfo='x+y',\n",
    "                opacity=0.8))\n",
    "fig.add_trace(go.Scatter(\n",
    "                x=lvl_80['date'],\n",
    "                y=lvl_80['char'],\n",
    "                name='Reached Lvl 80 (WLK)',\n",
    "                line_color='blue',\n",
    "                hoverinfo='x+y',\n",
    "                opacity=0.8))\n",
    "fig.update_layout(title_text=\"Chars Created/Reached Lvl Cap Chart\", \n",
    "                 xaxis=dict(\n",
    "                     tickmode='array',\n",
    "                     ticktext=['Jan', 'Feb', 'Mar', 'Apr', 'May', 'Jun', 'Jul', 'Aug', 'Sep', 'Oct', 'Nov', 'Dec'],\n",
    "                     tickvals=[1, 31, 60, 91, 121, 152, 182, 213, 244, 274, 304, 335]),\n",
    "                  xaxis_rangeslider_visible=True\n",
    "                 )\n",
    "fig.show()"
   ]
  },
  {
   "cell_type": "code",
   "execution_count": null,
   "metadata": {
    "_kg_hide-input": true,
    "_kg_hide-output": true
   },
   "outputs": [],
   "source": [
    "del char_creation\n",
    "del lvl_70\n",
    "del lvl_80\n",
    "del lvl_70_all\n",
    "del lvl_80_all\n",
    "gc.collect()"
   ]
  },
  {
   "cell_type": "markdown",
   "metadata": {},
   "source": [
    "There is a significant anomaly on 10/08/2008, when **4000** new characters were created. An upcoming release of the new expansion on 13/11/2008 might've influenced it some way, though this is yet to be investigated...\n",
    "\n",
    "Now, let's have a look at the most popular levelling path chosen by Horde players. Each zone has a specific range of levels recommended to spend their time in it. On the plot below, **Red** will stand for questing in the zone being under the minimal recommended level (meaning it's rather dangerous to run around there), **Green** — being prfectly fit into the levels range, **Gray** — being over the maximum recommended level, resulting in a modest reward, that most likely won't worth the time spent."
   ]
  },
  {
   "cell_type": "code",
   "execution_count": null,
   "metadata": {
    "_kg_hide-input": true
   },
   "outputs": [],
   "source": [
    "for race in wowah['race'].unique():\n",
    "    levelling_zones = wowah[(wowah['zone_type'] == 'Levelling') & (wowah['race'] == race)].pivot_table(index='level',\n",
    "                                        columns=['zone_type'],\n",
    "                                        values='zone',\n",
    "                                        aggfunc=lambda x: x.value_counts().index[0])\n",
    "    levelling_zones.columns = ['Levelling']\n",
    "    levelling_zones.reset_index(inplace=True)\n",
    "    \n",
    "    zones_min_rec = zones[zones['Type'].isin(['Zone', 'Transit', 'Sea'])][['Zone_Name', 'Min_rec_level']].set_index(['Zone_Name']).T.to_dict('records')[0]\n",
    "    zones_max_rec = zones[zones['Type'].isin(['Zone', 'Transit', 'Sea'])][['Zone_Name', 'Max_rec_level']].set_index(['Zone_Name']).T.to_dict('records')[0]\n",
    "\n",
    "    levelling_zones['Min_Rec'] = levelling_zones['Levelling'].map(zones_min_rec).astype(int)\n",
    "    levelling_zones['Max_Rec'] = levelling_zones['Levelling'].map(zones_max_rec).astype(int)\n",
    "\n",
    "    levelling_zones['Under'] = -(levelling_zones['level'] < levelling_zones['Min_Rec']).astype(int)\n",
    "    levelling_zones['Over'] = (levelling_zones['level'] > levelling_zones['Max_Rec']).astype(int)\n",
    "    levelling_zones['Recommended'] = levelling_zones['Under'] + levelling_zones['Over']\n",
    "    levelling_zones['Recommended'].replace({-1: 'Under Recommended', 0: 'Recommended', 1: 'Over Recommended'}, inplace=True)\n",
    "\n",
    "    fig = go.Figure()\n",
    "\n",
    "    colorsIdx = {'Under Recommended': 'red', 'Recommended': 'green', 'Over Recommended': 'darkgray'}\n",
    "    cols = levelling_zones['Recommended'].map(colorsIdx)\n",
    "\n",
    "    fig.add_trace(go.Scatter(\n",
    "                    x=levelling_zones['level'],\n",
    "                    y=levelling_zones['Levelling'],\n",
    "                    name='',\n",
    "                    mode='markers',\n",
    "                    text = levelling_zones['Recommended'],\n",
    "                    marker=dict(color=cols),\n",
    "                    hoverinfo='x+y+text',\n",
    "                    opacity=0.8))\n",
    "    fig.update_layout(title_text=\"Popular \" + race + \" Levelling Zone/Level\")\n",
    "    fig.update_xaxes(nticks=20)\n",
    "    fig.update_yaxes(tickfont=dict(size=10))\n",
    "    fig.show()"
   ]
  },
  {
   "cell_type": "code",
   "execution_count": null,
   "metadata": {
    "_kg_hide-input": true,
    "_kg_hide-output": true
   },
   "outputs": [],
   "source": [
    "del levelling_zones\n",
    "del zones_min_rec\n",
    "del zones_max_rec\n",
    "gc.collect()"
   ]
  },
  {
   "cell_type": "markdown",
   "metadata": {},
   "source": [
    "Well, we don't see red dots, but got quite a lot of gray ones. That means players tend to stay in some zones for quite some time, going over the recommended level in the result, but not the other way around. Also note how the late zones cover much less levels range in comparison to the early one. As for the race levelling path difference, it's more or less the same with the exception of first 1-2 zones.\n",
    "\n",
    "Alright, let's say we want to jump into the endgame as soon as possible. How long it's going to take and what should we focus on? Let's learn from the fastest levelling players of the server."
   ]
  },
  {
   "cell_type": "code",
   "execution_count": null,
   "metadata": {
    "_kg_hide-input": true
   },
   "outputs": [],
   "source": [
    "fastest_80 = []\n",
    "classes = wowah['class'].unique()\n",
    "for char_class in classes:\n",
    "    fastest_80.append(wowah[(wowah['char'].isin(chars_2008['char'])) & (wowah['level'] == 80) & (wowah['class'] == char_class)]['char'].iloc[0])\n",
    "\n",
    "fig = go.Figure()\n",
    "colormap = ['gray', 'black', 'red', 'orange', 'goldenrod', 'green', 'blue', 'hotpink', 'purple', 'turquoise']\n",
    "for color, char in zip(colormap, fastest_80):\n",
    "    hist_80 = wowah[wowah['char'] == char].reset_index(drop=True)\n",
    "    hist_80['playtime'] = (hist_80.index + 1) / 6\n",
    "    hist_80 = hist_80[['level', 'playtime']]\n",
    "    fig.add_trace(go.Scatter(\n",
    "                    x=hist_80['playtime'],\n",
    "                    y=hist_80['level'],\n",
    "                    name=wowah[wowah['char'] == char]['class'].iloc[0],\n",
    "                    line_color=color,\n",
    "                    hoverinfo='name+x+y',\n",
    "                    opacity=0.7))\n",
    "fig.update_layout(title=\"Fastest Players Levelling/Playtime (Hours)\")\n",
    "fig.show()"
   ]
  },
  {
   "cell_type": "code",
   "execution_count": null,
   "metadata": {
    "_kg_hide-input": true,
    "_kg_hide-output": true
   },
   "outputs": [],
   "source": [
    "del fastest_80\n",
    "del hist_80\n",
    "gc.collect()"
   ]
  },
  {
   "cell_type": "markdown",
   "metadata": {},
   "source": [
    "**Death Knight** is the first to hit **level 80**, no surprise here (remember, that he starts from **level 55**). Damage-dealer classes got a considerable advantage over the healer ones, taking much less time to get to the cap. For example, for **Shaman**, it took **twice** the playtime to get to the level 70 compared to **Warlock**. Note how hard it becomes to get the last 10 levels — around **60 hours**, that's like a single grand RPG! Another thing is that levelling takes long, sure, but in the end players spend way more time on level cap, sometimes **hundreds** of hours. What keeps them playing? We'll find it out in the next section, and now let's have a look at the fastest levelling players weekday activities, comparing them with the average players. Do they prioritize just questing, or spend some time on other things as well?"
   ]
  },
  {
   "cell_type": "code",
   "execution_count": null,
   "metadata": {
    "_kg_hide-input": true
   },
   "outputs": [],
   "source": [
    "lvl_70_chars = wowah[(wowah['char'].isin(chars_2008['char'])) & (wowah['level'] == 70)]['char']\n",
    "lvl_70_levelling = wowah[wowah['char'].isin(lvl_70_chars) & (wowah['zone_type'] != 'City')]\n",
    "lvl_70_levelling = lvl_70_levelling[lvl_70_levelling['level'] < 70]\n",
    "\n",
    "act_list = []\n",
    "for act in ['PVP', 'Dungeon', 'Levelling']:\n",
    "    tmp_df = lvl_70_levelling[lvl_70_levelling['zone_type'] == act].pivot_table(index='date', \n",
    "                                                                                columns='char', \n",
    "                                                                                values='time', \n",
    "                                                                            aggfunc=lambda x: x.value_counts().count())\n",
    "    act_list.append(tmp_df.fillna(0).sum().sum() / (tmp_df.shape[0] * tmp_df.shape[1] - tmp_df.isna().sum().sum()) / 6)\n",
    "\n",
    "fastest_70 = []\n",
    "classes = wowah['class'].unique()\n",
    "for char_class in classes:\n",
    "    fastest_70.append(wowah[(wowah['char'].isin(chars_2008['char'])) & (wowah['level'] == 70) & (wowah['class'] == char_class)]['char'].iloc[0])\n",
    "\n",
    "fast_lvl_70_levelling = wowah[wowah['char'].isin(fastest_70) & (wowah['zone_type'] != 'City')]\n",
    "fast_lvl_70_levelling = fast_lvl_70_levelling[fast_lvl_70_levelling['level'] < 70]\n",
    "\n",
    "fast_act_list = []\n",
    "for act in ['PVP', 'Dungeon', 'Levelling']:\n",
    "    tmp_df = fast_lvl_70_levelling[fast_lvl_70_levelling['zone_type'] == act].pivot_table(index='date', \n",
    "                                                                                          columns='char', \n",
    "                                                                                          values='time', \n",
    "                                                                            aggfunc=lambda x: x.value_counts().count())\n",
    "    fast_act_list.append(tmp_df.fillna(0).sum().sum() / (tmp_df.shape[0] * tmp_df.shape[1] - tmp_df.isna().sum().sum()) / 6)\n",
    "\n",
    "categories = ['PVP', 'PVE', 'Levelling']\n",
    "\n",
    "fig = go.Figure()\n",
    "\n",
    "fig.add_trace(go.Scatterpolar(\n",
    "      r=act_list,\n",
    "      theta=categories,\n",
    "      fill='toself',\n",
    "      name='Average'\n",
    "))\n",
    "\n",
    "fig.add_trace(go.Scatterpolar(\n",
    "      r=fast_act_list,\n",
    "      theta=categories,\n",
    "      fill='toself',\n",
    "      name='Fastest'\n",
    "))\n",
    "\n",
    "fig.update_layout(\n",
    "    title='Levelling Players Everyday Activities',\n",
    "  polar=dict(\n",
    "    radialaxis=dict(\n",
    "      visible=True,\n",
    "      range=[0, 8]\n",
    "    )),\n",
    "  showlegend=True\n",
    ")\n",
    "\n",
    "fig.show()"
   ]
  },
  {
   "cell_type": "markdown",
   "metadata": {},
   "source": [
    "Comparing the fastest levelling players to the average ones, we can see that the first spend more than double of time on quests than the latter, as for PVE and PVP, it's more or less equal — around an hour a day. Overall, you are expected to spend about **10 hours** every day if you wish to be among the first in the endgame league, and that's not what most can really afford. Average player needs amost half as much time, **6 hours** a day, to get to the level cap. Remember, that this time is distributed rather unequally depending on the weekday."
   ]
  },
  {
   "cell_type": "code",
   "execution_count": null,
   "metadata": {
    "_kg_hide-input": true,
    "_kg_hide-output": true
   },
   "outputs": [],
   "source": [
    "del lvl_70_chars\n",
    "del lvl_70_levelling\n",
    "del fastest_70\n",
    "del fast_lvl_70_levelling\n",
    "del act_list\n",
    "del fast_act_list\n",
    "gc.collect()"
   ]
  },
  {
   "cell_type": "markdown",
   "metadata": {},
   "source": [
    "# PVE <a id=\"11\"></a>\n",
    "\n",
    "### Dungeons & Raids <a id=\"12\"></a>\n",
    "\n",
    "Just like zones, dungeons in *WoW* got specific recommended levels ranges and designed around those limitations, so if you are seriously under-levelled, you are going to face really challenging fight. Now, as we can see from the chart below, players actually tend to run **Ragefire Chasm**, **Razorfen Kraul**, **Zul'Farrak** and **Halls of Lightning** under the recommended level. How could we explain this? Well, first of all, developers could overrate the recommended minimum; secondly, there may be some bugs in dungeons that lower-levels utilize to skip some hard parts; and thirdly, lower-levels may run those dungeons with their higher-level friends or guildmates clearing the path for them."
   ]
  },
  {
   "cell_type": "code",
   "execution_count": null,
   "metadata": {
    "_kg_hide-input": true
   },
   "outputs": [],
   "source": [
    "dungeon_stats = wowah[wowah['zone_type'] == 'Dungeon'].pivot_table(index='level',\n",
    "                                        columns=['zone_type'],\n",
    "                                        values='zone',\n",
    "                                        aggfunc=lambda x: x.value_counts().index[0])\n",
    "dungeon_stats.columns = ['Dungeon']\n",
    "dungeon_stats.reset_index(inplace=True)\n",
    "dungeon_stats = dungeon_stats.iloc[1:,:]\n",
    "\n",
    "zones_min_rec = zones[zones['Type'] == 'Dungeon'][['Zone_Name', 'Min_rec_level']].set_index(['Zone_Name']).T.to_dict('records')[0]\n",
    "zones_max_rec = zones[zones['Type'] == 'Dungeon'][['Zone_Name', 'Max_rec_level']].set_index(['Zone_Name']).T.to_dict('records')[0]\n",
    "\n",
    "dungeon_stats['Min_Rec'] = dungeon_stats['Dungeon'].map(zones_min_rec).astype(int)\n",
    "dungeon_stats['Max_Rec'] = dungeon_stats['Dungeon'].map(zones_max_rec).astype(int)\n",
    "\n",
    "dungeon_stats['Under'] = -(dungeon_stats['level'] < dungeon_stats['Min_Rec']).astype(int)\n",
    "dungeon_stats['Over'] = (dungeon_stats['level'] > dungeon_stats['Max_Rec']).astype(int)\n",
    "dungeon_stats['Recommended'] = dungeon_stats['Under'] + dungeon_stats['Over']\n",
    "\n",
    "#dungeon_stats['Recommended'] = (dungeon_stats['level'] >= dungeon_stats['Min_Rec']) & (dungeon_stats['level'] <= dungeon_stats['Max_Rec'])\n",
    "\n",
    "fig = go.Figure()\n",
    "\n",
    "colorsIdx = {-1: 'red', 0: 'green', 1: 'darkgray'}\n",
    "cols = dungeon_stats['Recommended'].map(colorsIdx)\n",
    "\n",
    "fig.add_trace(go.Scatter(\n",
    "                    x=dungeon_stats['level'],\n",
    "                    y=dungeon_stats['Dungeon'],\n",
    "                    name='',\n",
    "                    mode='markers',\n",
    "    marker=dict(color=cols),\n",
    "                    hoverinfo='x+y',\n",
    "                    opacity=0.8))\n",
    "fig.update_layout(title_text=\"Popular Dungeon/Level\")\n",
    "#fig.update_layout(title_text=\"Popular Dungeon/Level\", width=740, height=480)\n",
    "fig.update_xaxes(nticks=10)\n",
    "#fig.update_yaxes(tickfont=dict(size=10))\n",
    "fig.show()"
   ]
  },
  {
   "cell_type": "code",
   "execution_count": null,
   "metadata": {
    "_kg_hide-input": true,
    "_kg_hide-output": true
   },
   "outputs": [],
   "source": [
    "del dungeon_stats\n",
    "del zones_min_rec\n",
    "del zones_max_rec\n",
    "gc.collect()"
   ]
  },
  {
   "cell_type": "markdown",
   "metadata": {},
   "source": [
    "### Endgame <a id=\"13\"></a>\n",
    "\n",
    "Once you reach the level cap, you enter the realm of the endgame. The quests are far behind, and you can now delve into the world of pro-PVE/PVP. As mentioned above, this period in fact proves to be the main part of your character's life, so you could as well call it not the end, but rather the *true* beginning of your path.\n",
    "\n",
    "A quick note on the charts below: *The World* stands for the activities that don't fall under PVP, PVE our sitting in the capital. These may include daily quests, getting factions reputation, new mounts, resources, in short, doing all the stuff you missed while rushing to your level cap."
   ]
  },
  {
   "cell_type": "code",
   "execution_count": null,
   "metadata": {
    "_kg_hide-input": true
   },
   "outputs": [],
   "source": [
    "#had to put a specific number of a row, where TBC era ends, as other, more elegant options take hours to compute\n",
    "tbc_cap = wowah[wowah['level'] == 70].reset_index().iloc[: 6034346, :]\n",
    "tbc_act = tbc_cap.pivot_table(index='date',\n",
    "                    columns=['zone_type'],\n",
    "                    values='char',\n",
    "                    aggfunc=lambda x: x.value_counts().count()).fillna(0).astype(int).sum(axis=0).reset_index().groupby(['zone_type'], as_index=False)[0].sum()\n",
    "\n",
    "wlk_cap = wowah[wowah['level'] == 80]\n",
    "wlk_act = wlk_cap.pivot_table(index='date',\n",
    "                    columns=['zone_type'],\n",
    "                    values='char',\n",
    "                    aggfunc=lambda x: x.value_counts().count()).fillna(0).astype(int).sum(axis=0).reset_index().groupby(['zone_type'], as_index=False)[0].sum()\n",
    "tbc_act['zone_type'].replace({'Levelling': 'The World'}, inplace=True)\n",
    "wlk_act['zone_type'].replace({'Levelling': 'The World'}, inplace=True)\n",
    "\n",
    "fig = make_subplots(rows=1, cols=2, specs=[[{'type':'domain'}, {'type':'domain'}]])\n",
    "fig.add_trace(go.Pie(labels=tbc_act['zone_type'],\n",
    "                     values=tbc_act[0],\n",
    "                     name=\"\",\n",
    "                     marker=dict(colors=act_colors, line=dict(color='#ffffff', width=0.5)),\n",
    "                     showlegend=False, textfont=dict(size=11)\n",
    "                    ),\n",
    "              1, 1)\n",
    "\n",
    "fig.add_trace(go.Pie(labels=wlk_act['zone_type'],\n",
    "                     values=wlk_act[0],\n",
    "                     name=\"\",\n",
    "                     marker=dict(colors=act_colors, line=dict(color='#ffffff', width=0.5)),\n",
    "                     showlegend=False, textfont=dict(size=11)\n",
    "                    ),\n",
    "              1, 2)\n",
    "# Use `hole` to create a donut-like pie chart\n",
    "fig.update_traces(hole=.4, hoverinfo=\"percent\", textinfo=\"label\")\n",
    "\n",
    "fig.update_layout(\n",
    "    title_text=\"Players Endgame Activity\",\n",
    "    # Add annotations in the center of the donut pies.\n",
    "    annotations=[dict(text='TBC', x=0.185, y=0.5, font_size=20, showarrow=False),\n",
    "                 dict(text='WLK', x=0.82, y=0.5, font_size=20, showarrow=False)]\n",
    ")\n",
    "fig.show()"
   ]
  },
  {
   "cell_type": "code",
   "execution_count": null,
   "metadata": {
    "_kg_hide-input": true,
    "_kg_hide-output": true
   },
   "outputs": [],
   "source": [
    "del tbc_cap\n",
    "del wlk_cap\n",
    "del tbc_act\n",
    "del wlk_act\n",
    "gc.collect()"
   ]
  },
  {
   "cell_type": "markdown",
   "metadata": {},
   "source": [
    "As we can see, at the end of *The Burning Crusade* era PVP was as popular among **level 70** players as running raids and dungeons; however, at the start of *Wrath of the Lich King* fresh **level 80s** focus primarily on running dungeons - obviously, to get the new gear for upcoming dungeons. So, if you prefer PVP over PVE content, be ready to see the significant decrease of activity on battlegrounds whenever new expansion comes out."
   ]
  },
  {
   "cell_type": "markdown",
   "metadata": {},
   "source": [
    "# PVP <a id=\"14\"></a>"
   ]
  },
  {
   "cell_type": "code",
   "execution_count": null,
   "metadata": {
    "_kg_hide-input": true
   },
   "outputs": [],
   "source": [
    "wowah['zone_type'] = wowah['zone'].map(zones_dict)\n",
    "bgs = wowah[wowah['zone_type'].isin(['Battleground'])].groupby(['zone'], as_index=False)['char'].count().sort_values(by=['char'], ascending=False)\n",
    "arenas = wowah[wowah['zone_type'].isin(['Arena'])].groupby(['zone'], as_index=False)['char'].count().sort_values(by=['char'], ascending=False)\n",
    "\n",
    "fig = make_subplots(rows=1, cols=2, specs=[[{'type':'xy'}, {'type':'xy'}]])\n",
    "fig.add_trace(go.Bar(x=arenas['zone'],\n",
    "                     y=arenas['char'],\n",
    "                     name=\"Arenas\",\n",
    "                     showlegend=False\n",
    "                    ),\n",
    "              1, 1)\n",
    "fig.add_trace(go.Bar(x=bgs['zone'],\n",
    "                     y=bgs['char'],\n",
    "                     name=\"Battlegrounds\",\n",
    "                     showlegend=False),\n",
    "              1, 2)\n",
    "\n",
    "fig.update_layout(title=\"Arenas & Battlegrounds Popularity\")\n",
    "fig.show()"
   ]
  },
  {
   "cell_type": "markdown",
   "metadata": {},
   "source": [
    "**Dalaran Arena** couldn't boast of a popularity in 2008 as it was just brought by *WLK*, in 2008-10-14. As for The **Ring of Valor** and **Strand of the Ancients**, they actually proved to be a failure and were completely removed from the game later."
   ]
  },
  {
   "cell_type": "code",
   "execution_count": null,
   "metadata": {
    "_kg_hide-input": true,
    "_kg_hide-output": true
   },
   "outputs": [],
   "source": [
    "del bgs\n",
    "del arenas\n",
    "gc.collect()"
   ]
  },
  {
   "cell_type": "markdown",
   "metadata": {},
   "source": [
    "*To be continued...*"
   ]
  }
 ],
 "metadata": {
  "kernelspec": {
   "display_name": "Python 3 (ipykernel)",
   "language": "python",
   "name": "python3"
  },
  "language_info": {
   "codemirror_mode": {
    "name": "ipython",
    "version": 3
   },
   "file_extension": ".py",
   "mimetype": "text/x-python",
   "name": "python",
   "nbconvert_exporter": "python",
   "pygments_lexer": "ipython3",
   "version": "3.10.2"
  }
 },
 "nbformat": 4,
 "nbformat_minor": 4
}
