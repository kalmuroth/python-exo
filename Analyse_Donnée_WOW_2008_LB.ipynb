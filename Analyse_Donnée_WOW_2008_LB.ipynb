{
  "cells": [
    {
      "cell_type": "markdown",
      "metadata": {
        "id": "view-in-github",
        "colab_type": "text"
      },
      "source": [
        "<a href=\"https://colab.research.google.com/github/kalmuroth/python-exo/blob/master/Analyse_Donn%C3%A9e_WOW_2008_LB.ipynb\" target=\"_parent\"><img src=\"https://colab.research.google.com/assets/colab-badge.svg\" alt=\"Open In Colab\"/></a>"
      ]
    },
    {
      "cell_type": "markdown",
      "id": "e6dddb75",
      "metadata": {
        "id": "e6dddb75"
      },
      "source": [
        "Nous allons étudier des données qui correspondent aux connexion de personnages-joueurs dans le jeu-vidéo World Of Warcraft sur un serveur en 2008.\n",
        "\n",
        "Chaque row dans le fichier .csv correspond à une connexion quotidienne d'un joueur.\n",
        "\n",
        "Sur un axe de 1 ans (année 2008), nous avons un total de 10 millions de connexion.\n",
        "\n",
        "Je vais utiliser les librairies Python Pandas/Numpy/Seaborn pour étudier et analyser ces données visuellement pour démontrer l'impact de l'extension sur les joueurs."
      ]
    },
    {
      "cell_type": "code",
      "execution_count": 3,
      "id": "c88769f0",
      "metadata": {
        "colab": {
          "base_uri": "https://localhost:8080/"
        },
        "id": "c88769f0",
        "outputId": "2e6ccb2a-26b2-4475-b5c6-683209f73cc7"
      },
      "outputs": [
        {
          "output_type": "stream",
          "name": "stdout",
          "text": [
            "Mounted at /content/drive\n",
            "drive  sample_data\n"
          ]
        }
      ],
      "source": [
        "import numpy as np\n",
        "import pandas as pd\n",
        "import seaborn as sns\n",
        "import os\n",
        "import gc\n",
        "from google.colab import drive\n",
        "drive.mount('/content/drive', force_remount=True)\n",
        "!ls\n"
      ]
    },
    {
      "cell_type": "markdown",
      "id": "8b967f10",
      "metadata": {
        "id": "8b967f10"
      },
      "source": [
        "# Préparer les données <a id=\"1\"></a>\n",
        "\n",
        "### Fichier en entrée <a id=\"2\"></a>"
      ]
    },
    {
      "cell_type": "code",
      "execution_count": 4,
      "id": "c4e63d99",
      "metadata": {
        "colab": {
          "base_uri": "https://localhost:8080/"
        },
        "id": "c4e63d99",
        "outputId": "400ebf27-63b6-40a2-fccb-97a474440064"
      },
      "outputs": [
        {
          "output_type": "stream",
          "name": "stdout",
          "text": [
            "Nombre de Fichier .csv :          1\n",
            "-----------------------------------\n",
            "wowah_data.csv            623.93 MB\n"
          ]
        }
      ],
      "source": [
        "print('%-33s %d' % ('Nombre de Fichier .csv :', len(os.listdir('./drive/MyDrive/input'))))\n",
        "for i in range(34):\n",
        "    print('-',end='')\n",
        "print('-')\n",
        "for file in os.listdir(\"./drive/MyDrive/input\"):\n",
        "    unit = 'MB'\n",
        "    size = os.stat('./drive/MyDrive/input/' + file).st_size\n",
        "    if round(size / 2**20, 2) < 0.5:\n",
        "        size = round(size / 2**10, 2)\n",
        "        unit = 'KB'\n",
        "    else:\n",
        "        size = round(size / 2**20, 2)\n",
        "    print('%-25s %6.2f %2s' % (file, size, unit))"
      ]
    },
    {
      "cell_type": "markdown",
      "id": "ed72f038",
      "metadata": {
        "id": "ed72f038"
      },
      "source": [
        "# Présentation des données <a id=\"1\"></a>\n",
        "\n",
        "### Les Joueurs <a id=\"2\"></a>"
      ]
    },
    {
      "cell_type": "markdown",
      "id": "f8dd9663",
      "metadata": {
        "id": "f8dd9663"
      },
      "source": [
        "On va commencer par quelque chose de simple, regarder un peu ce que représente un row dans nos données (+ on modifie un peu le dataframe)."
      ]
    },
    {
      "cell_type": "code",
      "execution_count": 11,
      "id": "07d86374",
      "metadata": {
        "colab": {
          "base_uri": "https://localhost:8080/",
          "height": 206
        },
        "id": "07d86374",
        "outputId": "e648d09c-6468-4339-f508-70104f0ae30a"
      },
      "outputs": [
        {
          "output_type": "execute_result",
          "data": {
            "text/plain": [
              "    char  level race charclass                zone  guild timestamp month\n",
              "0  59425      1  Orc     Rogue           Orgrimmar    165  01/01/08    01\n",
              "1  65494      9  Orc    Hunter             Durotar     -1  01/01/08    01\n",
              "2  65325     14  Orc   Warrior          Ghostlands     -1  01/01/08    01\n",
              "3  65490     18  Orc    Hunter          Ghostlands     -1  01/01/08    01\n",
              "4   2288     60  Orc    Hunter  Hellfire Peninsula     -1  01/01/08    01"
            ],
            "text/html": [
              "\n",
              "  <div id=\"df-7d987191-92fd-4999-ad00-99ad4ad2adef\">\n",
              "    <div class=\"colab-df-container\">\n",
              "      <div>\n",
              "<style scoped>\n",
              "    .dataframe tbody tr th:only-of-type {\n",
              "        vertical-align: middle;\n",
              "    }\n",
              "\n",
              "    .dataframe tbody tr th {\n",
              "        vertical-align: top;\n",
              "    }\n",
              "\n",
              "    .dataframe thead th {\n",
              "        text-align: right;\n",
              "    }\n",
              "</style>\n",
              "<table border=\"1\" class=\"dataframe\">\n",
              "  <thead>\n",
              "    <tr style=\"text-align: right;\">\n",
              "      <th></th>\n",
              "      <th>char</th>\n",
              "      <th>level</th>\n",
              "      <th>race</th>\n",
              "      <th>charclass</th>\n",
              "      <th>zone</th>\n",
              "      <th>guild</th>\n",
              "      <th>timestamp</th>\n",
              "      <th>month</th>\n",
              "    </tr>\n",
              "  </thead>\n",
              "  <tbody>\n",
              "    <tr>\n",
              "      <th>0</th>\n",
              "      <td>59425</td>\n",
              "      <td>1</td>\n",
              "      <td>Orc</td>\n",
              "      <td>Rogue</td>\n",
              "      <td>Orgrimmar</td>\n",
              "      <td>165</td>\n",
              "      <td>01/01/08</td>\n",
              "      <td>01</td>\n",
              "    </tr>\n",
              "    <tr>\n",
              "      <th>1</th>\n",
              "      <td>65494</td>\n",
              "      <td>9</td>\n",
              "      <td>Orc</td>\n",
              "      <td>Hunter</td>\n",
              "      <td>Durotar</td>\n",
              "      <td>-1</td>\n",
              "      <td>01/01/08</td>\n",
              "      <td>01</td>\n",
              "    </tr>\n",
              "    <tr>\n",
              "      <th>2</th>\n",
              "      <td>65325</td>\n",
              "      <td>14</td>\n",
              "      <td>Orc</td>\n",
              "      <td>Warrior</td>\n",
              "      <td>Ghostlands</td>\n",
              "      <td>-1</td>\n",
              "      <td>01/01/08</td>\n",
              "      <td>01</td>\n",
              "    </tr>\n",
              "    <tr>\n",
              "      <th>3</th>\n",
              "      <td>65490</td>\n",
              "      <td>18</td>\n",
              "      <td>Orc</td>\n",
              "      <td>Hunter</td>\n",
              "      <td>Ghostlands</td>\n",
              "      <td>-1</td>\n",
              "      <td>01/01/08</td>\n",
              "      <td>01</td>\n",
              "    </tr>\n",
              "    <tr>\n",
              "      <th>4</th>\n",
              "      <td>2288</td>\n",
              "      <td>60</td>\n",
              "      <td>Orc</td>\n",
              "      <td>Hunter</td>\n",
              "      <td>Hellfire Peninsula</td>\n",
              "      <td>-1</td>\n",
              "      <td>01/01/08</td>\n",
              "      <td>01</td>\n",
              "    </tr>\n",
              "  </tbody>\n",
              "</table>\n",
              "</div>\n",
              "      <button class=\"colab-df-convert\" onclick=\"convertToInteractive('df-7d987191-92fd-4999-ad00-99ad4ad2adef')\"\n",
              "              title=\"Convert this dataframe to an interactive table.\"\n",
              "              style=\"display:none;\">\n",
              "        \n",
              "  <svg xmlns=\"http://www.w3.org/2000/svg\" height=\"24px\"viewBox=\"0 0 24 24\"\n",
              "       width=\"24px\">\n",
              "    <path d=\"M0 0h24v24H0V0z\" fill=\"none\"/>\n",
              "    <path d=\"M18.56 5.44l.94 2.06.94-2.06 2.06-.94-2.06-.94-.94-2.06-.94 2.06-2.06.94zm-11 1L8.5 8.5l.94-2.06 2.06-.94-2.06-.94L8.5 2.5l-.94 2.06-2.06.94zm10 10l.94 2.06.94-2.06 2.06-.94-2.06-.94-.94-2.06-.94 2.06-2.06.94z\"/><path d=\"M17.41 7.96l-1.37-1.37c-.4-.4-.92-.59-1.43-.59-.52 0-1.04.2-1.43.59L10.3 9.45l-7.72 7.72c-.78.78-.78 2.05 0 2.83L4 21.41c.39.39.9.59 1.41.59.51 0 1.02-.2 1.41-.59l7.78-7.78 2.81-2.81c.8-.78.8-2.07 0-2.86zM5.41 20L4 18.59l7.72-7.72 1.47 1.35L5.41 20z\"/>\n",
              "  </svg>\n",
              "      </button>\n",
              "      \n",
              "  <style>\n",
              "    .colab-df-container {\n",
              "      display:flex;\n",
              "      flex-wrap:wrap;\n",
              "      gap: 12px;\n",
              "    }\n",
              "\n",
              "    .colab-df-convert {\n",
              "      background-color: #E8F0FE;\n",
              "      border: none;\n",
              "      border-radius: 50%;\n",
              "      cursor: pointer;\n",
              "      display: none;\n",
              "      fill: #1967D2;\n",
              "      height: 32px;\n",
              "      padding: 0 0 0 0;\n",
              "      width: 32px;\n",
              "    }\n",
              "\n",
              "    .colab-df-convert:hover {\n",
              "      background-color: #E2EBFA;\n",
              "      box-shadow: 0px 1px 2px rgba(60, 64, 67, 0.3), 0px 1px 3px 1px rgba(60, 64, 67, 0.15);\n",
              "      fill: #174EA6;\n",
              "    }\n",
              "\n",
              "    [theme=dark] .colab-df-convert {\n",
              "      background-color: #3B4455;\n",
              "      fill: #D2E3FC;\n",
              "    }\n",
              "\n",
              "    [theme=dark] .colab-df-convert:hover {\n",
              "      background-color: #434B5C;\n",
              "      box-shadow: 0px 1px 3px 1px rgba(0, 0, 0, 0.15);\n",
              "      filter: drop-shadow(0px 1px 2px rgba(0, 0, 0, 0.3));\n",
              "      fill: #FFFFFF;\n",
              "    }\n",
              "  </style>\n",
              "\n",
              "      <script>\n",
              "        const buttonEl =\n",
              "          document.querySelector('#df-7d987191-92fd-4999-ad00-99ad4ad2adef button.colab-df-convert');\n",
              "        buttonEl.style.display =\n",
              "          google.colab.kernel.accessAllowed ? 'block' : 'none';\n",
              "\n",
              "        async function convertToInteractive(key) {\n",
              "          const element = document.querySelector('#df-7d987191-92fd-4999-ad00-99ad4ad2adef');\n",
              "          const dataTable =\n",
              "            await google.colab.kernel.invokeFunction('convertToInteractive',\n",
              "                                                     [key], {});\n",
              "          if (!dataTable) return;\n",
              "\n",
              "          const docLinkHtml = 'Like what you see? Visit the ' +\n",
              "            '<a target=\"_blank\" href=https://colab.research.google.com/notebooks/data_table.ipynb>data table notebook</a>'\n",
              "            + ' to learn more about interactive tables.';\n",
              "          element.innerHTML = '';\n",
              "          dataTable['output_type'] = 'display_data';\n",
              "          await google.colab.output.renderOutput(dataTable, element);\n",
              "          const docLink = document.createElement('div');\n",
              "          docLink.innerHTML = docLinkHtml;\n",
              "          element.appendChild(docLink);\n",
              "        }\n",
              "      </script>\n",
              "    </div>\n",
              "  </div>\n",
              "  "
            ]
          },
          "metadata": {},
          "execution_count": 11
        }
      ],
      "source": [
        "timeData = pd.read_csv('./drive/MyDrive/input/wowah_data.csv', sep = ',', skipinitialspace=True);\n",
        "timeData[\"timestamp\"] = timeData[\"timestamp\"].str.split(' ').str[0] \n",
        "timeData[\"month\"] = timeData[\"timestamp\"].str[:2]\n",
        "timeData.head()"
      ]
    },
    {
      "cell_type": "markdown",
      "id": "f6c59c97",
      "metadata": {
        "id": "f6c59c97"
      },
      "source": [
        "Chaque ligne représente la connexion d'un joueur sur son personnage. \n",
        "Seulement la première connexion quotidienne a été enregistrer.\n",
        "\n",
        "Timestamp représente le moment où le joueur s'est connecté la première fois dans la journée."
      ]
    },
    {
      "cell_type": "code",
      "execution_count": 6,
      "id": "98bd5958",
      "metadata": {
        "colab": {
          "base_uri": "https://localhost:8080/"
        },
        "id": "98bd5958",
        "outputId": "55b3667a-bad7-4706-9b40-7af45e44d43f"
      },
      "outputs": [
        {
          "output_type": "stream",
          "name": "stdout",
          "text": [
            "<class 'pandas.core.frame.DataFrame'>\n",
            "RangeIndex: 10826734 entries, 0 to 10826733\n",
            "Data columns (total 7 columns):\n",
            " #   Column     Dtype \n",
            "---  ------     ----- \n",
            " 0   char       int64 \n",
            " 1   level      int64 \n",
            " 2   race       object\n",
            " 3   charclass  object\n",
            " 4   zone       object\n",
            " 5   guild      int64 \n",
            " 6   timestamp  object\n",
            "dtypes: int64(3), object(4)\n",
            "memory usage: 578.2+ MB\n"
          ]
        }
      ],
      "source": [
        "timeData.info()"
      ]
    },
    {
      "cell_type": "markdown",
      "source": [
        "Si on compte le total d'utilisateur qui s'est connecté par mois, nous pouvons déterminer le total de connexion mensuelle."
      ],
      "metadata": {
        "id": "5dewvkRxuLXx"
      },
      "id": "5dewvkRxuLXx"
    },
    {
      "cell_type": "code",
      "execution_count": 26,
      "id": "7a1b7dbc",
      "metadata": {
        "colab": {
          "base_uri": "https://localhost:8080/",
          "height": 308
        },
        "id": "7a1b7dbc",
        "outputId": "86f783a7-9788-4315-9723-71df21a97a1d"
      },
      "outputs": [
        {
          "output_type": "execute_result",
          "data": {
            "text/plain": [
              "<matplotlib.axes._subplots.AxesSubplot at 0x7f1b74fec550>"
            ]
          },
          "metadata": {},
          "execution_count": 26
        },
        {
          "output_type": "display_data",
          "data": {
            "text/plain": [
              "<Figure size 432x288 with 1 Axes>"
            ],
            "image/png": "[encoded data removed]"
          },
          "metadata": {
            "needs_background": "light"
          }
        }
      ],
      "source": [
        "sns.countplot(x=\"month\",data=timeData)"
      ]
    },
    {
      "cell_type": "code",
      "execution_count": 7,
      "id": "7ad7fffa",
      "metadata": {
        "id": "7ad7fffa"
      },
      "outputs": [],
      "source": []
    },
    {
      "cell_type": "code",
      "execution_count": 7,
      "id": "4ad418b2",
      "metadata": {
        "id": "4ad418b2"
      },
      "outputs": [],
      "source": []
    },
    {
      "cell_type": "code",
      "execution_count": 7,
      "id": "29bb7775",
      "metadata": {
        "id": "29bb7775"
      },
      "outputs": [],
      "source": []
    },
    {
      "cell_type": "code",
      "execution_count": 7,
      "id": "caf86c94",
      "metadata": {
        "id": "caf86c94"
      },
      "outputs": [],
      "source": []
    }
  ],
  "metadata": {
    "kernelspec": {
      "display_name": "Python 3 (ipykernel)",
      "language": "python",
      "name": "python3"
    },
    "language_info": {
      "codemirror_mode": {
        "name": "ipython",
        "version": 3
      },
      "file_extension": ".py",
      "mimetype": "text/x-python",
      "name": "python",
      "nbconvert_exporter": "python",
      "pygments_lexer": "ipython3",
      "version": "3.10.2"
    },
    "colab": {
      "provenance": [],
      "include_colab_link": true
    }
  },
  "nbformat": 4,
  "nbformat_minor": 5
}