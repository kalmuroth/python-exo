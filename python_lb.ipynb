{
  "nbformat": 4,
  "nbformat_minor": 0,
  "metadata": {
    "colab": {
      "provenance": [],
      "authorship_tag": "ABX9TyPSEATNrLPllN9er7LBeG44",
      "include_colab_link": true
    },
    "kernelspec": {
      "name": "python3",
      "display_name": "Python 3"
    },
    "language_info": {
      "name": "python"
    }
  },
  "cells": [
    {
      "cell_type": "markdown",
      "metadata": {
        "id": "view-in-github",
        "colab_type": "text"
      },
      "source": [
        "<a href=\"https://colab.research.google.com/github/kalmuroth/python-exo/blob/master/python_lb.ipynb\" target=\"_parent\"><img src=\"https://colab.research.google.com/assets/colab-badge.svg\" alt=\"Open In Colab\"/></a>"
      ]
    },
    {
      "cell_type": "markdown",
      "source": [
        "Exercice Python\n"
      ],
      "metadata": {
        "id": "6bRK9xY85vY2"
      }
    },
    {
      "cell_type": "code",
      "execution_count": null,
      "metadata": {
        "id": "SgdWzk-05OxD"
      },
      "outputs": [],
      "source": [
        "inputUn = input('Donne moi chiffre 1\\n')\n",
        "inputDeux = input('Donne moi chiffre 2\\n')\n",
        "try :\n",
        "    if int(inputDeux) > 0 and int(inputUn) > 0 :\n",
        "        print('positif')\n",
        "    else : \n",
        "        print ('negatif')\n",
        "except:\n",
        "    print ('mauvais input')"
      ]
    },
    {
      "cell_type": "code",
      "source": [
        "inputUn = input('Donne moi chiffre\\n')\n",
        "i=0\n",
        "test=0\n",
        "try :\n",
        "    while(int(inputUn) >= i):\n",
        "        test = test + i\n",
        "        i+=1\n",
        "    print(test)\n",
        "except:\n",
        "    print ('mauvais input')"
      ],
      "metadata": {
        "id": "Kyuht6u46Xqr"
      },
      "execution_count": null,
      "outputs": []
    },
    {
      "cell_type": "code",
      "source": [
        "test = 0\n",
        "array = [1,2,3,4,5,6,7]\n",
        "for i in range(0, len(array)):\n",
        "    test = array[i] + test\n",
        "print(test)"
      ],
      "metadata": {
        "colab": {
          "base_uri": "https://localhost:8080/"
        },
        "id": "D4ApmHoV6PwP",
        "outputId": "33cd4842-c28c-4c6b-aab2-ccf2827643fe"
      },
      "execution_count": 4,
      "outputs": [
        {
          "output_type": "stream",
          "name": "stdout",
          "text": [
            "28\n"
          ]
        }
      ]
    },
    {
      "cell_type": "code",
      "source": [
        "test = 0\n",
        "arrayUno = [1,2,3]\n",
        "arrayDos = [1,2,3]\n",
        "for i in range(0, len(arrayUno)):\n",
        "    test = arrayUno[i] * arrayDos[i] + test\n",
        "print(test)"
      ],
      "metadata": {
        "id": "H0elm-xh6m9E"
      },
      "execution_count": null,
      "outputs": []
    },
    {
      "cell_type": "code",
      "source": [
        "array = [1,2,3,4,5,6,7]\n",
        "maximus = max(array)\n",
        "print(maximus)"
      ],
      "metadata": {
        "colab": {
          "base_uri": "https://localhost:8080/"
        },
        "id": "OCdwZedf6qAX",
        "outputId": "eb8734b9-b755-46e6-ed62-9d2be14d758d"
      },
      "execution_count": 8,
      "outputs": [
        {
          "output_type": "stream",
          "name": "stdout",
          "text": [
            "7\n"
          ]
        }
      ]
    },
    {
      "cell_type": "code",
      "source": [
        "try :\n",
        "  a = int(input(\"Nombre de nombre dans le tableau \"))\n",
        "  n = list(map(int, input(\"Nombre : \").strip().split()))\n",
        "  test = sum(n) / len(n)\n",
        "  for i in range(0, len(n)):\n",
        "      if (n[i] > test):\n",
        "              print(n[i])\n",
        "except:\n",
        "  print ('mauvais input')"
      ],
      "metadata": {
        "id": "EBoIs1kH6roa"
      },
      "execution_count": null,
      "outputs": []
    },
    {
      "cell_type": "code",
      "source": [
        "import numpy as np\n",
        "vectorUno=np.array([1,2,3,4,5])\n",
        "vectorDos=np.array([1,2,3,4,5])\n",
        "vectorSomme = (vectorUno * vectorDos)\n",
        "print(vectorSomme)"
      ],
      "metadata": {
        "colab": {
          "base_uri": "https://localhost:8080/"
        },
        "id": "sBz-nMTP6187",
        "outputId": "92c9733b-4e11-4b51-eb2a-ab7f01b779ff"
      },
      "execution_count": 6,
      "outputs": [
        {
          "output_type": "stream",
          "name": "stdout",
          "text": [
            "[ 1  4  9 16 25]\n"
          ]
        }
      ]
    },
    {
      "cell_type": "code",
      "source": [
        "array = [1,2,3,4,5,6,7]\n",
        "array.sort()\n",
        "print(array)"
      ],
      "metadata": {
        "colab": {
          "base_uri": "https://localhost:8080/"
        },
        "id": "NKdQ55pK6-Lw",
        "outputId": "5d7bd62c-f086-44f8-bd4d-16417999bcbf"
      },
      "execution_count": 7,
      "outputs": [
        {
          "output_type": "stream",
          "name": "stdout",
          "text": [
            "[1, 2, 3, 4, 5, 6, 7]\n"
          ]
        }
      ]
    }
  ]
}