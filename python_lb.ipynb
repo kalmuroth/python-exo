{
  "nbformat": 4,
  "nbformat_minor": 0,
  "metadata": {
    "colab": {
      "provenance": [],
      "collapsed_sections": [],
      "authorship_tag": "ABX9TyMa1XoIhg/QSoaqEDQpnbee",
      "include_colab_link": true
    },
    "kernelspec": {
      "name": "python3",
      "display_name": "Python 3"
    },
    "language_info": {
      "name": "python"
    }
  },
  "cells": [
    {
      "cell_type": "markdown",
      "metadata": {
        "id": "view-in-github",
        "colab_type": "text"
      },
      "source": [
        "<a href=\"https://colab.research.google.com/github/kalmuroth/python-exo/blob/master/python_lb.ipynb\" target=\"_parent\"><img src=\"https://colab.research.google.com/assets/colab-badge.svg\" alt=\"Open In Colab\"/></a>"
      ]
    },
    {
      "cell_type": "markdown",
      "source": [
        "Exercice Python\n"
      ],
      "metadata": {
        "id": "6bRK9xY85vY2"
      }
    },
    {
      "cell_type": "markdown",
      "source": [
        "1)\n"
      ],
      "metadata": {
        "id": "3oDBhu3e7lYk"
      }
    },
    {
      "cell_type": "code",
      "execution_count": null,
      "metadata": {
        "colab": {
          "base_uri": "https://localhost:8080/"
        },
        "id": "SgdWzk-05OxD",
        "outputId": "dee42cd7-e05d-4e90-87e2-646a67668c50"
      },
      "outputs": [
        {
          "output_type": "stream",
          "name": "stdout",
          "text": [
            "Donne moi chiffre 1\n",
            "-4\n",
            "Donne moi chiffre 2\n",
            "2\n",
            "negatif\n"
          ]
        }
      ],
      "source": [
        "inputUn = input('Donne moi chiffre 1\\n')\n",
        "inputDeux = input('Donne moi chiffre 2\\n')\n",
        "try :\n",
        "    if int(inputDeux) > 0 and int(inputUn) > 0 :\n",
        "        print('positif')\n",
        "    else : \n",
        "        print ('negatif')\n",
        "except:\n",
        "    print ('mauvais input')"
      ]
    },
    {
      "cell_type": "markdown",
      "source": [
        "2)\n"
      ],
      "metadata": {
        "id": "itXqX2a97nM5"
      }
    },
    {
      "cell_type": "code",
      "source": [
        "inputUn = input('Donne moi chiffre\\n')\n",
        "i=0\n",
        "test=0\n",
        "try :\n",
        "    while(int(inputUn) >= i):\n",
        "        test = test + i\n",
        "        i+=1\n",
        "    print(test)\n",
        "except:\n",
        "    print ('mauvais input')"
      ],
      "metadata": {
        "colab": {
          "base_uri": "https://localhost:8080/"
        },
        "id": "Kyuht6u46Xqr",
        "outputId": "0b5bd7e3-9cba-41f9-bc39-e0b1e57384f1"
      },
      "execution_count": null,
      "outputs": [
        {
          "output_type": "stream",
          "name": "stdout",
          "text": [
            "Donne moi chiffre\n",
            "8\n",
            "36\n"
          ]
        }
      ]
    },
    {
      "cell_type": "markdown",
      "source": [
        "3)"
      ],
      "metadata": {
        "id": "chyYApA27oeq"
      }
    },
    {
      "cell_type": "code",
      "source": [
        "test = 0\n",
        "array = [1,2,3,4,5,6,7]\n",
        "for i in range(0, len(array)):\n",
        "    test = array[i] + test\n",
        "print(test)"
      ],
      "metadata": {
        "colab": {
          "base_uri": "https://localhost:8080/"
        },
        "id": "D4ApmHoV6PwP",
        "outputId": "9002b66a-45af-4bd6-f4b8-5c78ba1bdcc9"
      },
      "execution_count": null,
      "outputs": [
        {
          "output_type": "stream",
          "name": "stdout",
          "text": [
            "28\n"
          ]
        }
      ]
    },
    {
      "cell_type": "markdown",
      "source": [
        "4)"
      ],
      "metadata": {
        "id": "ofU8Fr7b7qlF"
      }
    },
    {
      "cell_type": "code",
      "source": [
        "test = 0\n",
        "arrayUno = [1,2,3]\n",
        "arrayDos = [1,2,3]\n",
        "for i in range(0, len(arrayUno)):\n",
        "    test = arrayUno[i] * arrayDos[i] + test\n",
        "print(test)"
      ],
      "metadata": {
        "colab": {
          "base_uri": "https://localhost:8080/"
        },
        "id": "H0elm-xh6m9E",
        "outputId": "68a16596-1765-438f-d6bd-bec2f52d14a0"
      },
      "execution_count": null,
      "outputs": [
        {
          "output_type": "stream",
          "name": "stdout",
          "text": [
            "14\n"
          ]
        }
      ]
    },
    {
      "cell_type": "markdown",
      "source": [
        "5)"
      ],
      "metadata": {
        "id": "7WfSfh5D7rr-"
      }
    },
    {
      "cell_type": "code",
      "source": [
        "array = [1,2,3,4,5,6,7]\n",
        "maximus = max(array)\n",
        "print(maximus)"
      ],
      "metadata": {
        "colab": {
          "base_uri": "https://localhost:8080/"
        },
        "id": "OCdwZedf6qAX",
        "outputId": "bba28b4c-88e8-4abc-92cb-7ff3f832ce19"
      },
      "execution_count": null,
      "outputs": [
        {
          "output_type": "stream",
          "name": "stdout",
          "text": [
            "7\n"
          ]
        }
      ]
    },
    {
      "cell_type": "markdown",
      "source": [
        "6)"
      ],
      "metadata": {
        "id": "W_wdwFiX7s0b"
      }
    },
    {
      "cell_type": "code",
      "source": [
        "try :\n",
        "  a = int(input(\"Nombre de nombre dans le tableau \"))\n",
        "  n = list(map(int, input(\"Nombre : \").strip().split()))\n",
        "  test = sum(n) / len(n)\n",
        "  for i in range(0, len(n)):\n",
        "      if (n[i] > test):\n",
        "              print(n[i])\n",
        "except:\n",
        "  print ('mauvais input')"
      ],
      "metadata": {
        "colab": {
          "base_uri": "https://localhost:8080/"
        },
        "id": "EBoIs1kH6roa",
        "outputId": "4410c5f1-ce12-4636-e553-3c5f87e2c1d3"
      },
      "execution_count": null,
      "outputs": [
        {
          "output_type": "stream",
          "name": "stdout",
          "text": [
            "Nombre de nombre dans le tableau 5\n",
            "Nombre : 1 2 3 4 5\n",
            "4\n",
            "5\n"
          ]
        }
      ]
    },
    {
      "cell_type": "markdown",
      "source": [
        "7)"
      ],
      "metadata": {
        "id": "xPGlFwqs7uSQ"
      }
    },
    {
      "cell_type": "code",
      "source": [
        "import numpy as np\n",
        "vectorUno=np.array([1,2,3,4,5])\n",
        "vectorDos=np.array([1,2,3,4,5])\n",
        "vectorSomme = (vectorUno * vectorDos)\n",
        "print(vectorSomme)"
      ],
      "metadata": {
        "colab": {
          "base_uri": "https://localhost:8080/"
        },
        "id": "sBz-nMTP6187",
        "outputId": "f57ed12a-5fac-4e02-cdd9-a8c9e9148eea"
      },
      "execution_count": null,
      "outputs": [
        {
          "output_type": "stream",
          "name": "stdout",
          "text": [
            "[ 1  4  9 16 25]\n"
          ]
        }
      ]
    },
    {
      "cell_type": "markdown",
      "source": [
        "8)"
      ],
      "metadata": {
        "id": "CVNT-1Bw7vgu"
      }
    },
    {
      "cell_type": "code",
      "source": [
        "array = [1,2,3,4,5,6,7]\n",
        "array.sort()\n",
        "print(array)"
      ],
      "metadata": {
        "colab": {
          "base_uri": "https://localhost:8080/"
        },
        "id": "NKdQ55pK6-Lw",
        "outputId": "02af88ca-47bf-4d58-d562-66ce9452713a"
      },
      "execution_count": 6,
      "outputs": [
        {
          "output_type": "stream",
          "name": "stdout",
          "text": [
            "[1, 2, 3, 4, 5, 6, 7]\n"
          ]
        }
      ]
    },
    {
      "cell_type": "markdown",
      "source": [
        "9)"
      ],
      "metadata": {
        "id": "5JZCjdLtTu98"
      }
    },
    {
      "cell_type": "code",
      "source": [
        "inputUn = input('Donne moi chiffre\\n')\n",
        "i=1\n",
        "test=1\n",
        "try :\n",
        "    while(int(inputUn) >= i):\n",
        "        test = test * i\n",
        "        i+=1\n",
        "    print(test)\n",
        "except:\n",
        "    print ('faux')"
      ],
      "metadata": {
        "colab": {
          "base_uri": "https://localhost:8080/"
        },
        "id": "IRyARj-dT6tI",
        "outputId": "12785c9a-770c-4cb5-f757-6fca55a559cc"
      },
      "execution_count": 5,
      "outputs": [
        {
          "output_type": "stream",
          "name": "stdout",
          "text": [
            "Donne moi chiffre\n",
            "10\n",
            "3628800\n"
          ]
        }
      ]
    },
    {
      "cell_type": "markdown",
      "source": [
        "10)"
      ],
      "metadata": {
        "id": "fa-ZM4cvT_OR"
      }
    },
    {
      "cell_type": "code",
      "source": [
        "matriceUn= [ [2, 2, 2], [2, 2, 2] ]\n",
        "matriceDeux = [ [2, 2, 2], [2, 2, 2] ]\n",
        "n=len(matriceUn)\n",
        "m=len(matriceUn[0]) \n",
        "fusion = [[0]*m for i in range(n)] \n",
        "for i in range(n):\n",
        "    for j in range(m):\n",
        "        fusion[i][j]= matriceUn[i][j] + matriceDeux[i][j]\n",
        "\n",
        "print(\"Fusion des deux matrices : \", fusion)"
      ],
      "metadata": {
        "colab": {
          "base_uri": "https://localhost:8080/"
        },
        "id": "qwT7SFIIUAb1",
        "outputId": "3c0598f3-9a29-45ba-c05f-2119eead4500"
      },
      "execution_count": 1,
      "outputs": [
        {
          "output_type": "stream",
          "name": "stdout",
          "text": [
            "Fusion des deux matrices :  [[4, 4, 4], [4, 4, 4]]\n"
          ]
        }
      ]
    },
    {
      "cell_type": "markdown",
      "source": [
        "11)"
      ],
      "metadata": {
        "id": "DlFsY-ltUGz_"
      }
    },
    {
      "cell_type": "code",
      "source": [
        "base = 10\n",
        "f0 = 0\n",
        "f1 = 1\n",
        "print(\"La suite fibonacci est :\")\n",
        "print(f0, \",\", f1, end=\" , \")\n",
        "\n",
        "for i in range(2, base):\n",
        "    suivant = f0 + f1\n",
        "    print(suivant, end=\" , \")\n",
        "    f0 = f1\n",
        "    f1 = suivant"
      ],
      "metadata": {
        "colab": {
          "base_uri": "https://localhost:8080/"
        },
        "id": "IiQkXl4pUIVu",
        "outputId": "b98da449-e97a-4aa4-9d2e-78015ec48dcd"
      },
      "execution_count": 3,
      "outputs": [
        {
          "output_type": "stream",
          "name": "stdout",
          "text": [
            "La suite fibonacci est :\n",
            "0 , 1 , 1 , 2 , 3 , 5 , 8 , 13 , 21 , 34 , "
          ]
        }
      ]
    },
    {
      "cell_type": "markdown",
      "source": [
        "12)"
      ],
      "metadata": {
        "id": "zlhDhXMoUUuk"
      }
    },
    {
      "cell_type": "code",
      "source": [
        "k = int(input('Donne moi chiffre\\n'))\n",
        "i = 0\n",
        "x = 1\n",
        "while (k >= i):\n",
        "    i = 1/x + i\n",
        "    x+=1\n",
        "print(x)"
      ],
      "metadata": {
        "colab": {
          "base_uri": "https://localhost:8080/"
        },
        "id": "wCB55IUUUQ0b",
        "outputId": "3beb1234-a0ee-43f3-a249-c12ee7c7db2a"
      },
      "execution_count": 4,
      "outputs": [
        {
          "output_type": "stream",
          "name": "stdout",
          "text": [
            "Donne moi chiffre\n",
            "10\n",
            "12368\n"
          ]
        }
      ]
    }
  ]
}