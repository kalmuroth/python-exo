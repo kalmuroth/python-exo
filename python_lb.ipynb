{
  "nbformat": 4,
  "nbformat_minor": 0,
  "metadata": {
    "colab": {
      "provenance": [],
      "authorship_tag": "ABX9TyP0WLzMeE4+dIED/bt4Jgf2",
      "include_colab_link": true
    },
    "kernelspec": {
      "name": "python3",
      "display_name": "Python 3"
    },
    "language_info": {
      "name": "python"
    }
  },
  "cells": [
    {
      "cell_type": "markdown",
      "metadata": {
        "id": "view-in-github",
        "colab_type": "text"
      },
      "source": [
        "<a href=\"https://colab.research.google.com/github/kalmuroth/python-exo/blob/master/python_lb.ipynb\" target=\"_parent\"><img src=\"https://colab.research.google.com/assets/colab-badge.svg\" alt=\"Open In Colab\"/></a>"
      ]
    },
    {
      "cell_type": "markdown",
      "source": [
        "Exercice Python\n"
      ],
      "metadata": {
        "id": "6bRK9xY85vY2"
      }
    },
    {
      "cell_type": "markdown",
      "source": [
        "1)\n"
      ],
      "metadata": {
        "id": "3oDBhu3e7lYk"
      }
    },
    {
      "cell_type": "code",
      "execution_count": 2,
      "metadata": {
        "colab": {
          "base_uri": "https://localhost:8080/"
        },
        "id": "SgdWzk-05OxD",
        "outputId": "dee42cd7-e05d-4e90-87e2-646a67668c50"
      },
      "outputs": [
        {
          "output_type": "stream",
          "name": "stdout",
          "text": [
            "Donne moi chiffre 1\n",
            "-4\n",
            "Donne moi chiffre 2\n",
            "2\n",
            "negatif\n"
          ]
        }
      ],
      "source": [
        "inputUn = input('Donne moi chiffre 1\\n')\n",
        "inputDeux = input('Donne moi chiffre 2\\n')\n",
        "try :\n",
        "    if int(inputDeux) > 0 and int(inputUn) > 0 :\n",
        "        print('positif')\n",
        "    else : \n",
        "        print ('negatif')\n",
        "except:\n",
        "    print ('mauvais input')"
      ]
    },
    {
      "cell_type": "markdown",
      "source": [
        "2)\n"
      ],
      "metadata": {
        "id": "itXqX2a97nM5"
      }
    },
    {
      "cell_type": "code",
      "source": [
        "inputUn = input('Donne moi chiffre\\n')\n",
        "i=0\n",
        "test=0\n",
        "try :\n",
        "    while(int(inputUn) >= i):\n",
        "        test = test + i\n",
        "        i+=1\n",
        "    print(test)\n",
        "except:\n",
        "    print ('mauvais input')"
      ],
      "metadata": {
        "colab": {
          "base_uri": "https://localhost:8080/"
        },
        "id": "Kyuht6u46Xqr",
        "outputId": "0b5bd7e3-9cba-41f9-bc39-e0b1e57384f1"
      },
      "execution_count": 3,
      "outputs": [
        {
          "output_type": "stream",
          "name": "stdout",
          "text": [
            "Donne moi chiffre\n",
            "8\n",
            "36\n"
          ]
        }
      ]
    },
    {
      "cell_type": "markdown",
      "source": [
        "3)"
      ],
      "metadata": {
        "id": "chyYApA27oeq"
      }
    },
    {
      "cell_type": "code",
      "source": [
        "test = 0\n",
        "array = [1,2,3,4,5,6,7]\n",
        "for i in range(0, len(array)):\n",
        "    test = array[i] + test\n",
        "print(test)"
      ],
      "metadata": {
        "colab": {
          "base_uri": "https://localhost:8080/"
        },
        "id": "D4ApmHoV6PwP",
        "outputId": "9002b66a-45af-4bd6-f4b8-5c78ba1bdcc9"
      },
      "execution_count": 4,
      "outputs": [
        {
          "output_type": "stream",
          "name": "stdout",
          "text": [
            "28\n"
          ]
        }
      ]
    },
    {
      "cell_type": "markdown",
      "source": [
        "4)"
      ],
      "metadata": {
        "id": "ofU8Fr7b7qlF"
      }
    },
    {
      "cell_type": "code",
      "source": [
        "test = 0\n",
        "arrayUno = [1,2,3]\n",
        "arrayDos = [1,2,3]\n",
        "for i in range(0, len(arrayUno)):\n",
        "    test = arrayUno[i] * arrayDos[i] + test\n",
        "print(test)"
      ],
      "metadata": {
        "colab": {
          "base_uri": "https://localhost:8080/"
        },
        "id": "H0elm-xh6m9E",
        "outputId": "68a16596-1765-438f-d6bd-bec2f52d14a0"
      },
      "execution_count": 5,
      "outputs": [
        {
          "output_type": "stream",
          "name": "stdout",
          "text": [
            "14\n"
          ]
        }
      ]
    },
    {
      "cell_type": "markdown",
      "source": [
        "5)"
      ],
      "metadata": {
        "id": "7WfSfh5D7rr-"
      }
    },
    {
      "cell_type": "code",
      "source": [
        "array = [1,2,3,4,5,6,7]\n",
        "maximus = max(array)\n",
        "print(maximus)"
      ],
      "metadata": {
        "colab": {
          "base_uri": "https://localhost:8080/"
        },
        "id": "OCdwZedf6qAX",
        "outputId": "bba28b4c-88e8-4abc-92cb-7ff3f832ce19"
      },
      "execution_count": 6,
      "outputs": [
        {
          "output_type": "stream",
          "name": "stdout",
          "text": [
            "7\n"
          ]
        }
      ]
    },
    {
      "cell_type": "markdown",
      "source": [
        "6)"
      ],
      "metadata": {
        "id": "W_wdwFiX7s0b"
      }
    },
    {
      "cell_type": "code",
      "source": [
        "try :\n",
        "  a = int(input(\"Nombre de nombre dans le tableau \"))\n",
        "  n = list(map(int, input(\"Nombre : \").strip().split()))\n",
        "  test = sum(n) / len(n)\n",
        "  for i in range(0, len(n)):\n",
        "      if (n[i] > test):\n",
        "              print(n[i])\n",
        "except:\n",
        "  print ('mauvais input')"
      ],
      "metadata": {
        "colab": {
          "base_uri": "https://localhost:8080/"
        },
        "id": "EBoIs1kH6roa",
        "outputId": "4410c5f1-ce12-4636-e553-3c5f87e2c1d3"
      },
      "execution_count": 7,
      "outputs": [
        {
          "output_type": "stream",
          "name": "stdout",
          "text": [
            "Nombre de nombre dans le tableau 5\n",
            "Nombre : 1 2 3 4 5\n",
            "4\n",
            "5\n"
          ]
        }
      ]
    },
    {
      "cell_type": "markdown",
      "source": [
        "7)"
      ],
      "metadata": {
        "id": "xPGlFwqs7uSQ"
      }
    },
    {
      "cell_type": "code",
      "source": [
        "import numpy as np\n",
        "vectorUno=np.array([1,2,3,4,5])\n",
        "vectorDos=np.array([1,2,3,4,5])\n",
        "vectorSomme = (vectorUno * vectorDos)\n",
        "print(vectorSomme)"
      ],
      "metadata": {
        "colab": {
          "base_uri": "https://localhost:8080/"
        },
        "id": "sBz-nMTP6187",
        "outputId": "f57ed12a-5fac-4e02-cdd9-a8c9e9148eea"
      },
      "execution_count": 8,
      "outputs": [
        {
          "output_type": "stream",
          "name": "stdout",
          "text": [
            "[ 1  4  9 16 25]\n"
          ]
        }
      ]
    },
    {
      "cell_type": "markdown",
      "source": [
        "8)"
      ],
      "metadata": {
        "id": "CVNT-1Bw7vgu"
      }
    },
    {
      "cell_type": "code",
      "source": [
        "array = [1,2,3,4,5,6,7]\n",
        "array.sort()\n",
        "print(array)"
      ],
      "metadata": {
        "colab": {
          "base_uri": "https://localhost:8080/"
        },
        "id": "NKdQ55pK6-Lw",
        "outputId": "f567a2ef-557d-4463-f2da-0c73f9af028b"
      },
      "execution_count": 9,
      "outputs": [
        {
          "output_type": "stream",
          "name": "stdout",
          "text": [
            "[1, 2, 3, 4, 5, 6, 7]\n"
          ]
        }
      ]
    }
  ]
}